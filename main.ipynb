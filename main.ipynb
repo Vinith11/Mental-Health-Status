{
 "cells": [
  {
   "cell_type": "code",
   "execution_count": 311,
   "id": "0b35696d",
   "metadata": {},
   "outputs": [],
   "source": [
    "import pandas as pd\n",
    "import numpy as np\n",
    "import matplotlib.pyplot as plt\n",
    "import seaborn as sns\n",
    "%matplotlib inline"
   ]
  },
  {
   "cell_type": "code",
   "execution_count": 312,
   "id": "8c5a3d59",
   "metadata": {},
   "outputs": [],
   "source": [
    "from sklearn.model_selection import train_test_split\n",
    "from sklearn.preprocessing import StandardScaler\n",
    "from sklearn.ensemble import RandomForestClassifier, AdaBoostClassifier"
   ]
  },
  {
   "cell_type": "code",
   "execution_count": 313,
   "id": "22bfe27d",
   "metadata": {},
   "outputs": [],
   "source": [
    "from sklearn.metrics import accuracy_score, classification_report"
   ]
  },
  {
   "cell_type": "code",
   "execution_count": 314,
   "id": "9300a46d",
   "metadata": {},
   "outputs": [],
   "source": [
    "df= pd.read_csv('survey.csv')"
   ]
  },
  {
   "cell_type": "code",
   "execution_count": 315,
   "id": "5130a3cd",
   "metadata": {},
   "outputs": [
    {
     "data": {
      "text/html": [
       "<div>\n",
       "<style scoped>\n",
       "    .dataframe tbody tr th:only-of-type {\n",
       "        vertical-align: middle;\n",
       "    }\n",
       "\n",
       "    .dataframe tbody tr th {\n",
       "        vertical-align: top;\n",
       "    }\n",
       "\n",
       "    .dataframe thead th {\n",
       "        text-align: right;\n",
       "    }\n",
       "</style>\n",
       "<table border=\"1\" class=\"dataframe\">\n",
       "  <thead>\n",
       "    <tr style=\"text-align: right;\">\n",
       "      <th></th>\n",
       "      <th>Timestamp</th>\n",
       "      <th>Age</th>\n",
       "      <th>Gender</th>\n",
       "      <th>Country</th>\n",
       "      <th>state</th>\n",
       "      <th>self_employed</th>\n",
       "      <th>family_history</th>\n",
       "      <th>treatment</th>\n",
       "      <th>work_interfere</th>\n",
       "      <th>no_employees</th>\n",
       "      <th>...</th>\n",
       "      <th>leave</th>\n",
       "      <th>mental_health_consequence</th>\n",
       "      <th>phys_health_consequence</th>\n",
       "      <th>coworkers</th>\n",
       "      <th>supervisor</th>\n",
       "      <th>mental_health_interview</th>\n",
       "      <th>phys_health_interview</th>\n",
       "      <th>mental_vs_physical</th>\n",
       "      <th>obs_consequence</th>\n",
       "      <th>comments</th>\n",
       "    </tr>\n",
       "  </thead>\n",
       "  <tbody>\n",
       "    <tr>\n",
       "      <th>0</th>\n",
       "      <td>2014-08-27 11:29:31</td>\n",
       "      <td>37</td>\n",
       "      <td>Female</td>\n",
       "      <td>United States</td>\n",
       "      <td>IL</td>\n",
       "      <td>NaN</td>\n",
       "      <td>No</td>\n",
       "      <td>Yes</td>\n",
       "      <td>Often</td>\n",
       "      <td>6-25</td>\n",
       "      <td>...</td>\n",
       "      <td>Somewhat easy</td>\n",
       "      <td>No</td>\n",
       "      <td>No</td>\n",
       "      <td>Some of them</td>\n",
       "      <td>Yes</td>\n",
       "      <td>No</td>\n",
       "      <td>Maybe</td>\n",
       "      <td>Yes</td>\n",
       "      <td>No</td>\n",
       "      <td>NaN</td>\n",
       "    </tr>\n",
       "    <tr>\n",
       "      <th>1</th>\n",
       "      <td>2014-08-27 11:29:37</td>\n",
       "      <td>44</td>\n",
       "      <td>M</td>\n",
       "      <td>United States</td>\n",
       "      <td>IN</td>\n",
       "      <td>NaN</td>\n",
       "      <td>No</td>\n",
       "      <td>No</td>\n",
       "      <td>Rarely</td>\n",
       "      <td>More than 1000</td>\n",
       "      <td>...</td>\n",
       "      <td>Don't know</td>\n",
       "      <td>Maybe</td>\n",
       "      <td>No</td>\n",
       "      <td>No</td>\n",
       "      <td>No</td>\n",
       "      <td>No</td>\n",
       "      <td>No</td>\n",
       "      <td>Don't know</td>\n",
       "      <td>No</td>\n",
       "      <td>NaN</td>\n",
       "    </tr>\n",
       "    <tr>\n",
       "      <th>2</th>\n",
       "      <td>2014-08-27 11:29:44</td>\n",
       "      <td>32</td>\n",
       "      <td>Male</td>\n",
       "      <td>Canada</td>\n",
       "      <td>NaN</td>\n",
       "      <td>NaN</td>\n",
       "      <td>No</td>\n",
       "      <td>No</td>\n",
       "      <td>Rarely</td>\n",
       "      <td>6-25</td>\n",
       "      <td>...</td>\n",
       "      <td>Somewhat difficult</td>\n",
       "      <td>No</td>\n",
       "      <td>No</td>\n",
       "      <td>Yes</td>\n",
       "      <td>Yes</td>\n",
       "      <td>Yes</td>\n",
       "      <td>Yes</td>\n",
       "      <td>No</td>\n",
       "      <td>No</td>\n",
       "      <td>NaN</td>\n",
       "    </tr>\n",
       "    <tr>\n",
       "      <th>3</th>\n",
       "      <td>2014-08-27 11:29:46</td>\n",
       "      <td>31</td>\n",
       "      <td>Male</td>\n",
       "      <td>United Kingdom</td>\n",
       "      <td>NaN</td>\n",
       "      <td>NaN</td>\n",
       "      <td>Yes</td>\n",
       "      <td>Yes</td>\n",
       "      <td>Often</td>\n",
       "      <td>26-100</td>\n",
       "      <td>...</td>\n",
       "      <td>Somewhat difficult</td>\n",
       "      <td>Yes</td>\n",
       "      <td>Yes</td>\n",
       "      <td>Some of them</td>\n",
       "      <td>No</td>\n",
       "      <td>Maybe</td>\n",
       "      <td>Maybe</td>\n",
       "      <td>No</td>\n",
       "      <td>Yes</td>\n",
       "      <td>NaN</td>\n",
       "    </tr>\n",
       "    <tr>\n",
       "      <th>4</th>\n",
       "      <td>2014-08-27 11:30:22</td>\n",
       "      <td>31</td>\n",
       "      <td>Male</td>\n",
       "      <td>United States</td>\n",
       "      <td>TX</td>\n",
       "      <td>NaN</td>\n",
       "      <td>No</td>\n",
       "      <td>No</td>\n",
       "      <td>Never</td>\n",
       "      <td>100-500</td>\n",
       "      <td>...</td>\n",
       "      <td>Don't know</td>\n",
       "      <td>No</td>\n",
       "      <td>No</td>\n",
       "      <td>Some of them</td>\n",
       "      <td>Yes</td>\n",
       "      <td>Yes</td>\n",
       "      <td>Yes</td>\n",
       "      <td>Don't know</td>\n",
       "      <td>No</td>\n",
       "      <td>NaN</td>\n",
       "    </tr>\n",
       "  </tbody>\n",
       "</table>\n",
       "<p>5 rows × 27 columns</p>\n",
       "</div>"
      ],
      "text/plain": [
       "             Timestamp  Age  Gender         Country state self_employed  \\\n",
       "0  2014-08-27 11:29:31   37  Female   United States    IL           NaN   \n",
       "1  2014-08-27 11:29:37   44       M   United States    IN           NaN   \n",
       "2  2014-08-27 11:29:44   32    Male          Canada   NaN           NaN   \n",
       "3  2014-08-27 11:29:46   31    Male  United Kingdom   NaN           NaN   \n",
       "4  2014-08-27 11:30:22   31    Male   United States    TX           NaN   \n",
       "\n",
       "  family_history treatment work_interfere    no_employees  ...  \\\n",
       "0             No       Yes          Often            6-25  ...   \n",
       "1             No        No         Rarely  More than 1000  ...   \n",
       "2             No        No         Rarely            6-25  ...   \n",
       "3            Yes       Yes          Often          26-100  ...   \n",
       "4             No        No          Never         100-500  ...   \n",
       "\n",
       "                leave mental_health_consequence phys_health_consequence  \\\n",
       "0       Somewhat easy                        No                      No   \n",
       "1          Don't know                     Maybe                      No   \n",
       "2  Somewhat difficult                        No                      No   \n",
       "3  Somewhat difficult                       Yes                     Yes   \n",
       "4          Don't know                        No                      No   \n",
       "\n",
       "      coworkers supervisor mental_health_interview phys_health_interview  \\\n",
       "0  Some of them        Yes                      No                 Maybe   \n",
       "1            No         No                      No                    No   \n",
       "2           Yes        Yes                     Yes                   Yes   \n",
       "3  Some of them         No                   Maybe                 Maybe   \n",
       "4  Some of them        Yes                     Yes                   Yes   \n",
       "\n",
       "  mental_vs_physical obs_consequence comments  \n",
       "0                Yes              No      NaN  \n",
       "1         Don't know              No      NaN  \n",
       "2                 No              No      NaN  \n",
       "3                 No             Yes      NaN  \n",
       "4         Don't know              No      NaN  \n",
       "\n",
       "[5 rows x 27 columns]"
      ]
     },
     "execution_count": 315,
     "metadata": {},
     "output_type": "execute_result"
    }
   ],
   "source": [
    "df.head()"
   ]
  },
  {
   "cell_type": "code",
   "execution_count": 316,
   "id": "f9d0d4dc",
   "metadata": {},
   "outputs": [
    {
     "data": {
      "text/plain": [
       "(1259, 27)"
      ]
     },
     "execution_count": 316,
     "metadata": {},
     "output_type": "execute_result"
    }
   ],
   "source": [
    "df.shape"
   ]
  },
  {
   "cell_type": "code",
   "execution_count": 317,
   "id": "4fd43468",
   "metadata": {},
   "outputs": [
    {
     "name": "stdout",
     "output_type": "stream",
     "text": [
      "<class 'pandas.core.frame.DataFrame'>\n",
      "RangeIndex: 1259 entries, 0 to 1258\n",
      "Data columns (total 27 columns):\n",
      " #   Column                     Non-Null Count  Dtype \n",
      "---  ------                     --------------  ----- \n",
      " 0   Timestamp                  1259 non-null   object\n",
      " 1   Age                        1259 non-null   int64 \n",
      " 2   Gender                     1259 non-null   object\n",
      " 3   Country                    1259 non-null   object\n",
      " 4   state                      744 non-null    object\n",
      " 5   self_employed              1241 non-null   object\n",
      " 6   family_history             1259 non-null   object\n",
      " 7   treatment                  1259 non-null   object\n",
      " 8   work_interfere             995 non-null    object\n",
      " 9   no_employees               1259 non-null   object\n",
      " 10  remote_work                1259 non-null   object\n",
      " 11  tech_company               1259 non-null   object\n",
      " 12  benefits                   1259 non-null   object\n",
      " 13  care_options               1259 non-null   object\n",
      " 14  wellness_program           1259 non-null   object\n",
      " 15  seek_help                  1259 non-null   object\n",
      " 16  anonymity                  1259 non-null   object\n",
      " 17  leave                      1259 non-null   object\n",
      " 18  mental_health_consequence  1259 non-null   object\n",
      " 19  phys_health_consequence    1259 non-null   object\n",
      " 20  coworkers                  1259 non-null   object\n",
      " 21  supervisor                 1259 non-null   object\n",
      " 22  mental_health_interview    1259 non-null   object\n",
      " 23  phys_health_interview      1259 non-null   object\n",
      " 24  mental_vs_physical         1259 non-null   object\n",
      " 25  obs_consequence            1259 non-null   object\n",
      " 26  comments                   164 non-null    object\n",
      "dtypes: int64(1), object(26)\n",
      "memory usage: 265.7+ KB\n"
     ]
    }
   ],
   "source": [
    "df.info()"
   ]
  },
  {
   "cell_type": "code",
   "execution_count": 318,
   "id": "f994df77",
   "metadata": {},
   "outputs": [],
   "source": [
    "df.drop(['Country','state','Timestamp','comments'],axis=1,inplace = True)"
   ]
  },
  {
   "cell_type": "code",
   "execution_count": 319,
   "id": "582ebfd9",
   "metadata": {},
   "outputs": [
    {
     "data": {
      "text/plain": [
       "Age                            0\n",
       "Gender                         0\n",
       "self_employed                 18\n",
       "family_history                 0\n",
       "treatment                      0\n",
       "work_interfere               264\n",
       "no_employees                   0\n",
       "remote_work                    0\n",
       "tech_company                   0\n",
       "benefits                       0\n",
       "care_options                   0\n",
       "wellness_program               0\n",
       "seek_help                      0\n",
       "anonymity                      0\n",
       "leave                          0\n",
       "mental_health_consequence      0\n",
       "phys_health_consequence        0\n",
       "coworkers                      0\n",
       "supervisor                     0\n",
       "mental_health_interview        0\n",
       "phys_health_interview          0\n",
       "mental_vs_physical             0\n",
       "obs_consequence                0\n",
       "dtype: int64"
      ]
     },
     "execution_count": 319,
     "metadata": {},
     "output_type": "execute_result"
    }
   ],
   "source": [
    "df.isnull().sum()"
   ]
  },
  {
   "cell_type": "code",
   "execution_count": 320,
   "id": "65c73f3d",
   "metadata": {},
   "outputs": [],
   "source": [
    "df['self_employed'].fillna('No', inplace= True)"
   ]
  },
  {
   "cell_type": "code",
   "execution_count": 321,
   "id": "c0857fda",
   "metadata": {},
   "outputs": [],
   "source": [
    "df['work_interfere'].fillna('N/A', inplace= True)"
   ]
  },
  {
   "cell_type": "code",
   "execution_count": 322,
   "id": "d63ee51f",
   "metadata": {},
   "outputs": [],
   "source": [
    "df.drop(df[(df['Age']>60) | (df['Age']<18)] .index, inplace = True)"
   ]
  },
  {
   "cell_type": "code",
   "execution_count": 323,
   "id": "9f3a848d",
   "metadata": {},
   "outputs": [],
   "source": [
    "'''\n",
    "0 Male\n",
    "1 Female\n",
    "2 Trans\n",
    "'''\n",
    "\n",
    "df['Gender'].replace([ 'Male', 'male', 'M', 'm', 'Male', 'Cis Male', \n",
    "                        'Man', 'cis male', 'Mail', 'Male-ish', 'Male (CIS)', \n",
    "                        'Cis Man', 'msle', 'Malr', 'Mal', 'maile', 'Make', 'ostensibly male, unsure what that really means ',], 0, inplace=True)\n",
    "\n",
    "df['Gender'].replace([ 'Female', 'female', 'F', 'f', 'Woman', \n",
    "                        'Female', 'femail', 'Cis Female', 'cis-female/femme', \n",
    "                        'Femake', 'Female (cis)', 'woman','Male','Female' ], 1, inplace=True)\n",
    "\n",
    "df[\"Gender\"].replace(['Female (trans)', 'queer/she/they', 'non-binary',\n",
    "                        'fluid', 'queer', 'Androgyne', 'Trans-female', \n",
    "                        'male learning androgynous', 'Agender', \n",
    "                        'A little about you', 'Nah', 'All', 'ostensibly male', \n",
    "                        'unsure what that really means','Genderqueer', 'Enby', 'p', \n",
    "                        'Neuter', 'something kinda male?', 'Guy (-ish) ^_^', 'Trans woman', ], \n",
    "                       2, inplace=True)"
   ]
  },
  {
   "cell_type": "code",
   "execution_count": 324,
   "id": "878125e8",
   "metadata": {},
   "outputs": [],
   "source": [
    "df[\"Gender\"].replace(['Male ','Female ','male leaning androgynous','ostensibly male, unsure what that really means'], \n",
    "                       2, inplace=True)"
   ]
  },
  {
   "cell_type": "code",
   "execution_count": 325,
   "id": "cbee6c23",
   "metadata": {},
   "outputs": [
    {
     "data": {
      "text/plain": [
       "Gender\n",
       "0    980\n",
       "1    244\n",
       "2     23\n",
       "Name: count, dtype: int64"
      ]
     },
     "execution_count": 325,
     "metadata": {},
     "output_type": "execute_result"
    }
   ],
   "source": [
    "df['Gender'].value_counts()"
   ]
  },
  {
   "cell_type": "code",
   "execution_count": 326,
   "id": "ce8634d4",
   "metadata": {},
   "outputs": [
    {
     "data": {
      "image/png": "[encoded data removed]",
      "text/plain": [
       "<Figure size 640x480 with 1 Axes>"
      ]
     },
     "metadata": {},
     "output_type": "display_data"
    }
   ],
   "source": [
    "# Filter dataframe for only those rows where 'tech_company' is True\n",
    "df_tech = df[df['tech_company'] == 'Yes']\n",
    "\n",
    "# Generate pie chart for 'treatment' column\n",
    "df_tech['treatment'].value_counts().plot.pie(autopct='%1.1f%%')\n",
    "plt.title('Percent of people working in tech companies taking treatment for mental illness')\n",
    "plt.ylabel('')  # This line hides the 'treatment' ylabel.\n",
    "plt.show()"
   ]
  },
  {
   "cell_type": "code",
   "execution_count": 327,
   "id": "8c791bd7",
   "metadata": {},
   "outputs": [
    {
     "data": {
      "image/png": "[encoded data removed]",
      "text/plain": [
       "<Figure size 640x480 with 1 Axes>"
      ]
     },
     "metadata": {},
     "output_type": "display_data"
    }
   ],
   "source": [
    "df['family_history'].value_counts().plot.pie(autopct='%1.1f%%')\n",
    "\n",
    "plt.title('Family history of Mental Disorders')\n",
    "plt.ylabel('')  # This line hides the 'column' ylabel.\n",
    "plt.show()"
   ]
  },
  {
   "cell_type": "code",
   "execution_count": 328,
   "id": "438b07d2",
   "metadata": {},
   "outputs": [
    {
     "data": {
      "image/png": "[encoded data removed]",
      "text/plain": [
       "<Figure size 640x480 with 1 Axes>"
      ]
     },
     "metadata": {},
     "output_type": "display_data"
    }
   ],
   "source": [
    "# Filter dataframe for only those rows where 'Family_History' is True\n",
    "df_tech = df[df['family_history'] == 'No']\n",
    "\n",
    "# Generate pie chart for 'treatment' column\n",
    "df_tech['treatment'].value_counts().plot.pie(autopct='%1.1f%%')\n",
    "plt.title('Percent of people not having a family history of mental disorders taking treatment for mental illness')\n",
    "plt.ylabel('')  # This line hides the 'treatment' ylabel.\n",
    "plt.show()"
   ]
  },
  {
   "cell_type": "code",
   "execution_count": 329,
   "id": "f1b9520c",
   "metadata": {},
   "outputs": [
    {
     "data": {
      "image/png": "[encoded data removed]",
      "text/plain": [
       "<Figure size 1000x600 with 1 Axes>"
      ]
     },
     "metadata": {},
     "output_type": "display_data"
    }
   ],
   "source": [
    "df1=df.copy()\n",
    "# Define the age ranges and their labels\n",
    "bins = range(18, df['Age'].max() + 5, 5)\n",
    "labels = [f'{i}-{i+4}' for i in bins[:-1]]\n",
    "df1['Ages'] = pd.cut(df['Age'], bins=bins, labels=labels, right=False)\n",
    "# Plot the countplot with hue\n",
    "plt.figure(figsize=(10, 6))\n",
    "sns.countplot(x='Ages', data=df1, hue=df1['treatment'])\n",
    "plt.show()"
   ]
  },
  {
   "cell_type": "code",
   "execution_count": 330,
   "id": "82b35501",
   "metadata": {},
   "outputs": [
    {
     "data": {
      "text/plain": [
       "<Axes: xlabel='treatment', ylabel='count'>"
      ]
     },
     "execution_count": 330,
     "metadata": {},
     "output_type": "execute_result"
    },
    {
     "data": {
      "image/png": "[encoded data removed]",
      "text/plain": [
       "<Figure size 640x480 with 1 Axes>"
      ]
     },
     "metadata": {},
     "output_type": "display_data"
    }
   ],
   "source": [
    "df1=df.copy()\n",
    "sns.countplot(x='treatment', data=df1, hue=df1['Gender'])"
   ]
  },
  {
   "cell_type": "code",
   "execution_count": 331,
   "id": "3cbfc809",
   "metadata": {},
   "outputs": [
    {
     "data": {
      "image/png": "[encoded data removed]",
      "text/plain": [
       "<Figure size 640x480 with 1 Axes>"
      ]
     },
     "metadata": {},
     "output_type": "display_data"
    }
   ],
   "source": [
    "# Filter dataframe for only those rows where 'tech_company' is True\n",
    "df_tech = df[df['Gender'] == 1]\n",
    "\n",
    "# Generate pie chart for 'treatment' column\n",
    "df_tech['treatment'].value_counts().plot.pie(autopct='%1.1f%%')\n",
    "plt.title('Percent of women taking treatment for mental illnes')\n",
    "plt.ylabel('')  # This line hides the 'treatment' ylabel.\n",
    "plt.show()"
   ]
  },
  {
   "cell_type": "code",
   "execution_count": 332,
   "id": "e49c02cf",
   "metadata": {},
   "outputs": [
    {
     "data": {
      "image/png": "[encoded data removed]",
      "text/plain": [
       "<Figure size 640x480 with 1 Axes>"
      ]
     },
     "metadata": {},
     "output_type": "display_data"
    }
   ],
   "source": [
    "# Filter dataframe for only those rows where 'tech_company' is True\n",
    "df_tech = df[df['Gender'] == 0]\n",
    "\n",
    "# Generate pie chart for 'treatment' column\n",
    "df_tech['treatment'].value_counts().plot.pie(autopct='%1.1f%%')\n",
    "plt.title('Percent of men taking treatment for mental illnes')\n",
    "plt.ylabel('')  # This line hides the 'treatment' ylabel.\n",
    "plt.show()"
   ]
  },
  {
   "cell_type": "code",
   "execution_count": 333,
   "id": "dd9811f9",
   "metadata": {},
   "outputs": [
    {
     "data": {
      "image/png": "[encoded data removed]",
      "text/plain": [
       "<Figure size 640x480 with 1 Axes>"
      ]
     },
     "metadata": {},
     "output_type": "display_data"
    }
   ],
   "source": [
    "# Filter dataframe for only those rows where 'tech_company' is True\n",
    "df_tech = df[df['Gender'] == 2]\n",
    "\n",
    "# Generate pie chart for 'treatment' column\n",
    "df_tech['treatment'].value_counts().plot.pie(autopct='%1.1f%%')\n",
    "plt.title('Percent of Transgender taking treatment for mental illnes')\n",
    "plt.ylabel('')  # This line hides the 'treatment' ylabel.\n",
    "plt.show()"
   ]
  },
  {
   "cell_type": "code",
   "execution_count": 334,
   "id": "c17001db",
   "metadata": {},
   "outputs": [
    {
     "data": {
      "text/plain": [
       "self_employed\n",
       "No     1107\n",
       "Yes     140\n",
       "Name: count, dtype: int64"
      ]
     },
     "execution_count": 334,
     "metadata": {},
     "output_type": "execute_result"
    }
   ],
   "source": [
    "df['self_employed'].value_counts()"
   ]
  },
  {
   "cell_type": "code",
   "execution_count": 335,
   "id": "158c92b5",
   "metadata": {},
   "outputs": [],
   "source": [
    "'''\n",
    "0 No\n",
    "1 Yes\n",
    "'''\n",
    "df[\"self_employed\"].replace(['No'], 0, inplace=True)\n",
    "df[\"self_employed\"].replace(['Yes'], 1, inplace=True)"
   ]
  },
  {
   "cell_type": "code",
   "execution_count": 336,
   "id": "709481ce",
   "metadata": {},
   "outputs": [
    {
     "data": {
      "text/plain": [
       "family_history\n",
       "No     759\n",
       "Yes    488\n",
       "Name: count, dtype: int64"
      ]
     },
     "execution_count": 336,
     "metadata": {},
     "output_type": "execute_result"
    }
   ],
   "source": [
    "df['family_history'].value_counts()"
   ]
  },
  {
   "cell_type": "code",
   "execution_count": 337,
   "id": "90dffbc6",
   "metadata": {},
   "outputs": [],
   "source": [
    "'''\n",
    "0 No\n",
    "1 Yes\n",
    "'''\n",
    "df[\"family_history\"].replace(['No'], 0, inplace=True)\n",
    "df[\"family_history\"].replace(['Yes'], 1, inplace=True)"
   ]
  },
  {
   "cell_type": "code",
   "execution_count": 338,
   "id": "c7339a10",
   "metadata": {},
   "outputs": [
    {
     "data": {
      "text/plain": [
       "treatment\n",
       "Yes    630\n",
       "No     617\n",
       "Name: count, dtype: int64"
      ]
     },
     "execution_count": 338,
     "metadata": {},
     "output_type": "execute_result"
    }
   ],
   "source": [
    "df['treatment'].value_counts()"
   ]
  },
  {
   "cell_type": "code",
   "execution_count": 339,
   "id": "166a00c0",
   "metadata": {},
   "outputs": [],
   "source": [
    "'''\n",
    "0 No\n",
    "1 Yes\n",
    "'''\n",
    "df[\"treatment\"].replace(['No'], 0, inplace=True)\n",
    "df[\"treatment\"].replace(['Yes'], 1, inplace=True)"
   ]
  },
  {
   "cell_type": "code",
   "execution_count": 340,
   "id": "43d6600c",
   "metadata": {},
   "outputs": [
    {
     "data": {
      "text/plain": [
       "work_interfere\n",
       "Sometimes    463\n",
       "N/A          261\n",
       "Never        210\n",
       "Rarely       173\n",
       "Often        140\n",
       "Name: count, dtype: int64"
      ]
     },
     "execution_count": 340,
     "metadata": {},
     "output_type": "execute_result"
    }
   ],
   "source": [
    "df['work_interfere'].value_counts()"
   ]
  },
  {
   "cell_type": "code",
   "execution_count": 341,
   "id": "943136e4",
   "metadata": {},
   "outputs": [],
   "source": [
    "'''\n",
    "Sometimes    1\n",
    "N/A          0\n",
    "Never        2\n",
    "Rarely       3\n",
    "Often        4\n",
    "'''\n",
    "df[\"work_interfere\"].replace(['N/A'], 0, inplace=True)\n",
    "df[\"work_interfere\"].replace(['Sometimes'], 1, inplace=True)\n",
    "df[\"work_interfere\"].replace(['Never'], 2, inplace=True)\n",
    "df[\"work_interfere\"].replace(['Rarely'], 3, inplace=True)\n",
    "df[\"work_interfere\"].replace(['Often'], 4, inplace=True)"
   ]
  },
  {
   "cell_type": "code",
   "execution_count": 342,
   "id": "a5d6c9a9",
   "metadata": {},
   "outputs": [],
   "source": [
    "'''\n",
    "6-25              1\n",
    "26-100            2\n",
    "More than 1000    5\n",
    "100-500           3\n",
    "1-5               0\n",
    "500-1000          4\n",
    "'''\n",
    "df[\"no_employees\"].replace(['1-5',], 0, inplace=True)\n",
    "df[\"no_employees\"].replace(['6-25'], 1, inplace=True)\n",
    "df[\"no_employees\"].replace(['26-100'], 2, inplace=True)\n",
    "df[\"no_employees\"].replace(['100-500'], 3, inplace=True)\n",
    "df[\"no_employees\"].replace(['500-1000'], 4, inplace=True)\n",
    "df[\"no_employees\"].replace(['More than 1000'], 5, inplace=True)"
   ]
  },
  {
   "cell_type": "code",
   "execution_count": 343,
   "id": "49be3a56",
   "metadata": {},
   "outputs": [
    {
     "data": {
      "text/plain": [
       "no_employees\n",
       "1    288\n",
       "2    288\n",
       "5    280\n",
       "3    175\n",
       "0    157\n",
       "4     59\n",
       "Name: count, dtype: int64"
      ]
     },
     "execution_count": 343,
     "metadata": {},
     "output_type": "execute_result"
    }
   ],
   "source": [
    "df['no_employees'].value_counts()"
   ]
  },
  {
   "cell_type": "code",
   "execution_count": 344,
   "id": "46a9cf06",
   "metadata": {},
   "outputs": [],
   "source": [
    "'''\n",
    "0 No\n",
    "1 Yes\n",
    "'''\n",
    "df[\"tech_company\"].replace(['No'], 0, inplace=True)\n",
    "df[\"tech_company\"].replace(['Yes'], 1, inplace=True)"
   ]
  },
  {
   "cell_type": "code",
   "execution_count": 345,
   "id": "edbf87f6",
   "metadata": {},
   "outputs": [
    {
     "data": {
      "text/plain": [
       "tech_company\n",
       "1    1023\n",
       "0     224\n",
       "Name: count, dtype: int64"
      ]
     },
     "execution_count": 345,
     "metadata": {},
     "output_type": "execute_result"
    }
   ],
   "source": [
    "df['tech_company'].value_counts()"
   ]
  },
  {
   "cell_type": "code",
   "execution_count": 346,
   "id": "a8ab279a",
   "metadata": {},
   "outputs": [],
   "source": [
    "'''\n",
    "0 No\n",
    "1 Yes\n",
    "'''\n",
    "df[\"remote_work\"].replace(['No'], 0, inplace=True)\n",
    "df[\"remote_work\"].replace(['Yes'], 1, inplace=True)"
   ]
  },
  {
   "cell_type": "code",
   "execution_count": 347,
   "id": "26ee9838",
   "metadata": {},
   "outputs": [
    {
     "data": {
      "text/plain": [
       "remote_work\n",
       "0    879\n",
       "1    368\n",
       "Name: count, dtype: int64"
      ]
     },
     "execution_count": 347,
     "metadata": {},
     "output_type": "execute_result"
    }
   ],
   "source": [
    "df['remote_work'].value_counts()"
   ]
  },
  {
   "cell_type": "code",
   "execution_count": 348,
   "id": "d1830a4e",
   "metadata": {},
   "outputs": [],
   "source": [
    "'''\n",
    "0 No\n",
    "1 Yes\n",
    "2 Don't know\n",
    "'''\n",
    "df[\"benefits\"].replace(['No'], 0, inplace=True)\n",
    "df[\"benefits\"].replace(['Yes'], 1, inplace=True)\n",
    "df[\"benefits\"].replace(['Don\\'t know'], 2, inplace=True)"
   ]
  },
  {
   "cell_type": "code",
   "execution_count": 349,
   "id": "96690edd",
   "metadata": {},
   "outputs": [
    {
     "data": {
      "text/plain": [
       "benefits\n",
       "1    471\n",
       "2    407\n",
       "0    369\n",
       "Name: count, dtype: int64"
      ]
     },
     "execution_count": 349,
     "metadata": {},
     "output_type": "execute_result"
    }
   ],
   "source": [
    "df['benefits'].value_counts()"
   ]
  },
  {
   "cell_type": "code",
   "execution_count": 350,
   "id": "c8472b0e",
   "metadata": {},
   "outputs": [],
   "source": [
    "'''\n",
    "0 No\n",
    "1 Yes\n",
    "2 Not sure\n",
    "'''\n",
    "df[\"care_options\"].replace(['No'], 0, inplace=True)\n",
    "df[\"care_options\"].replace(['Yes'], 1, inplace=True)\n",
    "df[\"care_options\"].replace(['Not sure'], 2, inplace=True)              "
   ]
  },
  {
   "cell_type": "code",
   "execution_count": 351,
   "id": "4c29cc56",
   "metadata": {},
   "outputs": [
    {
     "data": {
      "text/plain": [
       "care_options\n",
       "0    497\n",
       "1    438\n",
       "2    312\n",
       "Name: count, dtype: int64"
      ]
     },
     "execution_count": 351,
     "metadata": {},
     "output_type": "execute_result"
    }
   ],
   "source": [
    "df['care_options'].value_counts()"
   ]
  },
  {
   "cell_type": "code",
   "execution_count": 352,
   "id": "e2f9718b",
   "metadata": {},
   "outputs": [],
   "source": [
    "'''\n",
    "0 No\n",
    "1 Yes\n",
    "2 Don't know\n",
    "'''\n",
    "df[\"wellness_program\"].replace(['No'], 0, inplace=True)\n",
    "df[\"wellness_program\"].replace(['Yes'], 1, inplace=True)\n",
    "df[\"wellness_program\"].replace(['Don\\'t know'], 2, inplace=True)"
   ]
  },
  {
   "cell_type": "code",
   "execution_count": 353,
   "id": "5401cfa2",
   "metadata": {},
   "outputs": [
    {
     "data": {
      "text/plain": [
       "wellness_program\n",
       "0    835\n",
       "1    227\n",
       "2    185\n",
       "Name: count, dtype: int64"
      ]
     },
     "execution_count": 353,
     "metadata": {},
     "output_type": "execute_result"
    }
   ],
   "source": [
    "df['wellness_program'].value_counts()"
   ]
  },
  {
   "cell_type": "code",
   "execution_count": 354,
   "id": "8dd0b381",
   "metadata": {},
   "outputs": [],
   "source": [
    "'''\n",
    "0 No\n",
    "1 Yes\n",
    "2 Don't know\n",
    "'''\n",
    "df[\"seek_help\"].replace(['No'], 0, inplace=True)\n",
    "df[\"seek_help\"].replace(['Yes'], 1, inplace=True)\n",
    "df[\"seek_help\"].replace(['Don\\'t know'], 2, inplace=True)"
   ]
  },
  {
   "cell_type": "code",
   "execution_count": 355,
   "id": "cf153dbc",
   "metadata": {},
   "outputs": [
    {
     "data": {
      "text/plain": [
       "seek_help\n",
       "0    639\n",
       "2    363\n",
       "1    245\n",
       "Name: count, dtype: int64"
      ]
     },
     "execution_count": 355,
     "metadata": {},
     "output_type": "execute_result"
    }
   ],
   "source": [
    "df['seek_help'].value_counts()"
   ]
  },
  {
   "cell_type": "code",
   "execution_count": 356,
   "id": "0bbcffc2",
   "metadata": {},
   "outputs": [],
   "source": [
    "'''\n",
    "0 No\n",
    "1 Yes\n",
    "2 Don't know\n",
    "'''\n",
    "df[\"anonymity\"].replace(['No'], 0, inplace=True)\n",
    "df[\"anonymity\"].replace(['Yes'], 1, inplace=True)\n",
    "df[\"anonymity\"].replace(['Don\\'t know'], 2, inplace=True)                    "
   ]
  },
  {
   "cell_type": "code",
   "execution_count": 357,
   "id": "08918b2d",
   "metadata": {},
   "outputs": [
    {
     "data": {
      "text/plain": [
       "anonymity\n",
       "2    811\n",
       "1    372\n",
       "0     64\n",
       "Name: count, dtype: int64"
      ]
     },
     "execution_count": 357,
     "metadata": {},
     "output_type": "execute_result"
    }
   ],
   "source": [
    "df['anonymity'].value_counts()"
   ]
  },
  {
   "cell_type": "code",
   "execution_count": 358,
   "id": "eb043da4",
   "metadata": {},
   "outputs": [],
   "source": [
    "'''\n",
    "Don't know            0\n",
    "Somewhat easy         1\n",
    "Very easy             2\n",
    "Somewhat difficult    3\n",
    "Very difficult        4\n",
    "'''\n",
    "df[\"leave\"].replace(['Don\\'t know',], 0, inplace=True)\n",
    "df[\"leave\"].replace(['Somewhat easy'], 1, inplace=True)\n",
    "df[\"leave\"].replace(['Very easy'], 2, inplace=True)\n",
    "df[\"leave\"].replace(['Somewhat difficult'], 3, inplace=True)\n",
    "df[\"leave\"].replace(['Very difficult'], 4, inplace=True)"
   ]
  },
  {
   "cell_type": "code",
   "execution_count": 359,
   "id": "7d69bc17",
   "metadata": {},
   "outputs": [
    {
     "data": {
      "text/plain": [
       "leave\n",
       "0    560\n",
       "1    264\n",
       "2    202\n",
       "3    125\n",
       "4     96\n",
       "Name: count, dtype: int64"
      ]
     },
     "execution_count": 359,
     "metadata": {},
     "output_type": "execute_result"
    }
   ],
   "source": [
    "df['leave'].value_counts()"
   ]
  },
  {
   "cell_type": "code",
   "execution_count": 360,
   "id": "bf6a2841",
   "metadata": {},
   "outputs": [],
   "source": [
    "'''\n",
    "0 No\n",
    "1 Yes\n",
    "2 Maybe\n",
    "'''\n",
    "df[\"mental_health_consequence\"].replace(['No'], 0, inplace=True)\n",
    "df[\"mental_health_consequence\"].replace(['Yes'], 1, inplace=True)\n",
    "df[\"mental_health_consequence\"].replace(['Maybe'], 2, inplace=True)   "
   ]
  },
  {
   "cell_type": "code",
   "execution_count": 361,
   "id": "cf83d7a9",
   "metadata": {},
   "outputs": [
    {
     "data": {
      "text/plain": [
       "mental_health_consequence\n",
       "0    487\n",
       "2    473\n",
       "1    287\n",
       "Name: count, dtype: int64"
      ]
     },
     "execution_count": 361,
     "metadata": {},
     "output_type": "execute_result"
    }
   ],
   "source": [
    "df['mental_health_consequence'].value_counts()"
   ]
  },
  {
   "cell_type": "code",
   "execution_count": 362,
   "id": "950552cb",
   "metadata": {},
   "outputs": [],
   "source": [
    "'''\n",
    "0 No\n",
    "1 Yes\n",
    "2 Maybe\n",
    "'''\n",
    "df[\"phys_health_consequence\"].replace(['No'], 0, inplace=True)\n",
    "df[\"phys_health_consequence\"].replace(['Yes'], 1, inplace=True)\n",
    "df[\"phys_health_consequence\"].replace(['Maybe'], 2, inplace=True)   "
   ]
  },
  {
   "cell_type": "code",
   "execution_count": 363,
   "id": "a3c64a0e",
   "metadata": {},
   "outputs": [
    {
     "data": {
      "text/plain": [
       "phys_health_consequence\n",
       "0    918\n",
       "2    271\n",
       "1     58\n",
       "Name: count, dtype: int64"
      ]
     },
     "execution_count": 363,
     "metadata": {},
     "output_type": "execute_result"
    }
   ],
   "source": [
    "df['phys_health_consequence'].value_counts()"
   ]
  },
  {
   "cell_type": "code",
   "execution_count": 364,
   "id": "c18f0337",
   "metadata": {},
   "outputs": [],
   "source": [
    "'''\n",
    "0 No\n",
    "1 Yes\n",
    "2 Some of them\n",
    "'''\n",
    "df[\"coworkers\"].replace(['No'], 0, inplace=True)\n",
    "df[\"coworkers\"].replace(['Yes'], 1, inplace=True)\n",
    "df[\"coworkers\"].replace(['Some of them'], 2, inplace=True)                       "
   ]
  },
  {
   "cell_type": "code",
   "execution_count": 365,
   "id": "ae7756ad",
   "metadata": {},
   "outputs": [
    {
     "data": {
      "text/plain": [
       "coworkers\n",
       "2    767\n",
       "0    258\n",
       "1    222\n",
       "Name: count, dtype: int64"
      ]
     },
     "execution_count": 365,
     "metadata": {},
     "output_type": "execute_result"
    }
   ],
   "source": [
    "df['coworkers'].value_counts()"
   ]
  },
  {
   "cell_type": "code",
   "execution_count": 366,
   "id": "97a796f8",
   "metadata": {},
   "outputs": [],
   "source": [
    "'''\n",
    "0 No\n",
    "1 Yes\n",
    "2 Some of them\n",
    "'''\n",
    "df[\"supervisor\"].replace(['No'], 0, inplace=True)\n",
    "df[\"supervisor\"].replace(['Yes'], 1, inplace=True)\n",
    "df[\"supervisor\"].replace(['Some of them'], 2, inplace=True)                     "
   ]
  },
  {
   "cell_type": "code",
   "execution_count": 367,
   "id": "ef78ef7a",
   "metadata": {},
   "outputs": [
    {
     "data": {
      "text/plain": [
       "supervisor\n",
       "1    509\n",
       "0    389\n",
       "2    349\n",
       "Name: count, dtype: int64"
      ]
     },
     "execution_count": 367,
     "metadata": {},
     "output_type": "execute_result"
    }
   ],
   "source": [
    "df['supervisor'].value_counts()"
   ]
  },
  {
   "cell_type": "code",
   "execution_count": 368,
   "id": "9f4f4003",
   "metadata": {},
   "outputs": [],
   "source": [
    "'''\n",
    "0 No\n",
    "1 Yes\n",
    "2 Maybe\n",
    "'''\n",
    "df[\"mental_health_interview\"].replace(['No'], 0, inplace=True)\n",
    "df[\"mental_health_interview\"].replace(['Yes'], 1, inplace=True)\n",
    "df[\"mental_health_interview\"].replace(['Maybe'], 2, inplace=True)    "
   ]
  },
  {
   "cell_type": "code",
   "execution_count": 369,
   "id": "6f227342",
   "metadata": {},
   "outputs": [
    {
     "data": {
      "text/plain": [
       "mental_health_interview\n",
       "0    1000\n",
       "2     206\n",
       "1      41\n",
       "Name: count, dtype: int64"
      ]
     },
     "execution_count": 369,
     "metadata": {},
     "output_type": "execute_result"
    }
   ],
   "source": [
    "df['mental_health_interview'].value_counts()"
   ]
  },
  {
   "cell_type": "code",
   "execution_count": 370,
   "id": "6537af43",
   "metadata": {},
   "outputs": [],
   "source": [
    "'''\n",
    "0 No\n",
    "1 Yes\n",
    "2 Maybe\n",
    "'''\n",
    "df[\"phys_health_interview\"].replace(['No'], 0, inplace=True)\n",
    "df[\"phys_health_interview\"].replace(['Yes'], 1, inplace=True)\n",
    "df[\"phys_health_interview\"].replace(['Maybe'], 2, inplace=True)    "
   ]
  },
  {
   "cell_type": "code",
   "execution_count": 371,
   "id": "3584cab7",
   "metadata": {},
   "outputs": [
    {
     "data": {
      "text/plain": [
       "phys_health_interview\n",
       "2    553\n",
       "0    494\n",
       "1    200\n",
       "Name: count, dtype: int64"
      ]
     },
     "execution_count": 371,
     "metadata": {},
     "output_type": "execute_result"
    }
   ],
   "source": [
    "df['phys_health_interview'].value_counts()"
   ]
  },
  {
   "cell_type": "code",
   "execution_count": 372,
   "id": "5b07d189",
   "metadata": {},
   "outputs": [],
   "source": [
    "'''\n",
    "0 No\n",
    "1 Yes\n",
    "2 Don't know\n",
    "'''\n",
    "df[\"mental_vs_physical\"].replace(['No'], 0, inplace=True)\n",
    "df[\"mental_vs_physical\"].replace(['Yes'], 1, inplace=True)\n",
    "df[\"mental_vs_physical\"].replace(['Don\\'t know'], 2, inplace=True)                    "
   ]
  },
  {
   "cell_type": "code",
   "execution_count": 373,
   "id": "6e4b0026",
   "metadata": {},
   "outputs": [
    {
     "data": {
      "text/plain": [
       "mental_vs_physical\n",
       "2    573\n",
       "1    337\n",
       "0    337\n",
       "Name: count, dtype: int64"
      ]
     },
     "execution_count": 373,
     "metadata": {},
     "output_type": "execute_result"
    }
   ],
   "source": [
    "df['mental_vs_physical'].value_counts()"
   ]
  },
  {
   "cell_type": "code",
   "execution_count": 374,
   "id": "d54ee1ac",
   "metadata": {},
   "outputs": [],
   "source": [
    "'''\n",
    "0 No\n",
    "1 Yes\n",
    "'''\n",
    "df[\"obs_consequence\"].replace(['No'], 0, inplace=True)\n",
    "df[\"obs_consequence\"].replace(['Yes'], 1, inplace=True)               "
   ]
  },
  {
   "cell_type": "code",
   "execution_count": 375,
   "id": "9a622705",
   "metadata": {},
   "outputs": [
    {
     "data": {
      "text/plain": [
       "obs_consequence\n",
       "0    1068\n",
       "1     179\n",
       "Name: count, dtype: int64"
      ]
     },
     "execution_count": 375,
     "metadata": {},
     "output_type": "execute_result"
    }
   ],
   "source": [
    "df['obs_consequence'].value_counts()"
   ]
  },
  {
   "cell_type": "markdown",
   "id": "8bdb3607",
   "metadata": {},
   "source": [
    "82 % of people who gave this survey work in tech companie"
   ]
  },
  {
   "cell_type": "code",
   "execution_count": 376,
   "id": "fa5dcb97",
   "metadata": {},
   "outputs": [],
   "source": [
    "X=df.drop('treatment',axis=1)\n",
    "y=df['treatment']"
   ]
  },
  {
   "cell_type": "code",
   "execution_count": 377,
   "id": "2fa1555b",
   "metadata": {},
   "outputs": [],
   "source": [
    "X_train, X_test, y_train, y_test = train_test_split(X, y, test_size=0.3, random_state=101)"
   ]
  },
  {
   "cell_type": "code",
   "execution_count": 378,
   "id": "26625cae",
   "metadata": {},
   "outputs": [],
   "source": [
    "scaler = StandardScaler()\n",
    "X_train = scaler.fit_transform(X_train)\n",
    "X_test = scaler.transform(X_test)"
   ]
  },
  {
   "cell_type": "code",
   "execution_count": 379,
   "id": "50e07e81",
   "metadata": {},
   "outputs": [
    {
     "name": "stdout",
     "output_type": "stream",
     "text": [
      "Accuracy: 0.75\n"
     ]
    }
   ],
   "source": [
    "#logestic regression\n",
    "from sklearn.linear_model import LogisticRegression\n",
    "\n",
    "modelLR = LogisticRegression()\n",
    "\n",
    "# Train the model on the training data\n",
    "modelLR.fit(X_train, y_train)\n",
    "\n",
    "# Make predictions on the test data\n",
    "y_pred = modelLR.predict(X_test)\n",
    "\n",
    "# Evaluate the model\n",
    "accuracyLR = accuracy_score(y_test, y_pred)\n",
    "\n",
    "print(f\"Accuracy: {accuracyLR:.2f}\")"
   ]
  },
  {
   "cell_type": "code",
   "execution_count": 380,
   "id": "8e2ee86b",
   "metadata": {},
   "outputs": [
    {
     "name": "stdout",
     "output_type": "stream",
     "text": [
      "Accuracy: 0.51\n"
     ]
    },
    {
     "name": "stderr",
     "output_type": "stream",
     "text": [
      "c:\\Users\\vinit\\anaconda3\\Lib\\site-packages\\sklearn\\base.py:464: UserWarning: X does not have valid feature names, but DecisionTreeClassifier was fitted with feature names\n",
      "  warnings.warn(\n"
     ]
    }
   ],
   "source": [
    "#decsion tree\n",
    "from sklearn import tree\n",
    "\n",
    "clf = tree.DecisionTreeClassifier(criterion='entropy')\n",
    "clf = clf.fit(X, y)\n",
    "\n",
    "# Make predictions on the test data\n",
    "y_pred = clf.predict(X_test)\n",
    "\n",
    "# Evaluate the model\n",
    "accuracyDT = accuracy_score(y_test, y_pred)\n",
    "\n",
    "print(f\"Accuracy: {accuracyDT:.2f}\")"
   ]
  },
  {
   "cell_type": "code",
   "execution_count": 381,
   "id": "362b7994",
   "metadata": {},
   "outputs": [
    {
     "name": "stdout",
     "output_type": "stream",
     "text": [
      "Accuracy: 0.83\n"
     ]
    }
   ],
   "source": [
    "#Random Forest\n",
    "\n",
    "from sklearn.ensemble import RandomForestClassifier\n",
    "\n",
    "# Choose a machine learning model (e.g., Random Forest)\n",
    "modelRFC = RandomForestClassifier(n_estimators=50, random_state=42)\n",
    "\n",
    "# Train the model\n",
    "modelRFC.fit(X_train, y_train)\n",
    "\n",
    "# Make predictions on the test data\n",
    "y_pred = modelRFC.predict(X_test)\n",
    "\n",
    "# Evaluate the model's performance\n",
    "accuracyRF = accuracy_score(y_test, y_pred)\n",
    "print(f'Accuracy: {accuracyRF:.2f}')"
   ]
  },
  {
   "cell_type": "code",
   "execution_count": 382,
   "id": "c3f26824",
   "metadata": {},
   "outputs": [
    {
     "name": "stdout",
     "output_type": "stream",
     "text": [
      "Accuracy: 0.82\n"
     ]
    }
   ],
   "source": [
    "# XGBoost\n",
    "\n",
    "import xgboost as xgb\n",
    "\n",
    "\n",
    "dtrain = xgb.DMatrix(X_train, label=y_train)\n",
    "dtest = xgb.DMatrix(X_test, label=y_test)\n",
    "\n",
    "# Set hyperparameters for the XGBoost model\n",
    "param = {\n",
    "    'max_depth': 3,           # Maximum depth of each tree\n",
    "    'eta': 0.3,               # Learning rate\n",
    "    'objective': 'binary:logistic',  # Binary classification\n",
    "    'eval_metric': 'logloss'  # Evaluation metric\n",
    "}\n",
    "\n",
    "# Train the XGBoost model\n",
    "num_round = 100\n",
    "modelXGB = xgb.train(param, dtrain, num_round)\n",
    "\n",
    "# Make predictions\n",
    "y_pred = modelXGB.predict(dtest)\n",
    "\n",
    "# Convert predicted probabilities to binary labels\n",
    "y_pred_binary = [1 if p > 0.5 else 0 for p in y_pred]\n",
    "\n",
    "# Calculate accuracy and display classification report\n",
    "accuracyXGB = accuracy_score(y_test, y_pred_binary)\n",
    "\n",
    "print(f\"Accuracy: {accuracyXGB:.2f}\")"
   ]
  },
  {
   "cell_type": "code",
   "execution_count": 383,
   "id": "1235e461",
   "metadata": {},
   "outputs": [
    {
     "name": "stdout",
     "output_type": "stream",
     "text": [
      "Accuracy: 69.60%\n"
     ]
    }
   ],
   "source": [
    "#KNN\n",
    "\n",
    "from sklearn.neighbors import KNeighborsClassifier\n",
    "\n",
    "# Create a KNN classifier with k=3\n",
    "k = 11\n",
    "knn = KNeighborsClassifier(n_neighbors=k)\n",
    "\n",
    "# Train the classifier on the training data\n",
    "knn.fit(X_train, y_train)\n",
    "\n",
    "# Make predictions on the test data\n",
    "y_pred = knn.predict(X_test)\n",
    "\n",
    "# Calculate the accuracy of the classifier\n",
    "accuracyKNN = accuracy_score(y_test, y_pred)\n",
    "print(f\"Accuracy: {accuracyKNN * 100:.2f}%\")"
   ]
  },
  {
   "cell_type": "code",
   "execution_count": 384,
   "id": "e7b9fa20",
   "metadata": {},
   "outputs": [
    {
     "name": "stdout",
     "output_type": "stream",
     "text": [
      "Accuracy: 0.85\n"
     ]
    }
   ],
   "source": [
    "#Ada Booster Clasifier\n",
    "modelA = AdaBoostClassifier(random_state=101)\n",
    "\n",
    "modelA.fit(X_train, y_train)\n",
    "\n",
    "y_pred = modelA.predict(X_test)\n",
    "\n",
    "accuracyABC = accuracy_score(y_test, y_pred)\n",
    "print(f'Accuracy: {accuracyABC:.2f}')"
   ]
  },
  {
   "cell_type": "code",
   "execution_count": 385,
   "id": "494b5e58",
   "metadata": {},
   "outputs": [
    {
     "data": {
      "text/plain": [
       "{'n_estimators': [1, 4, 8, 11, 15, 18, 22, 25, 29, 32, 36, 39, 43, 46, 50],\n",
       " 'learning_rate': [0.97, 0.98, 0.99, 1.0, 1.01, 1.02, 1.03, 1.04]}"
      ]
     },
     "execution_count": 385,
     "metadata": {},
     "output_type": "execute_result"
    }
   ],
   "source": [
    "params_test = {'n_estimators': [int(x) for x in np.linspace (start = 1, stop = 50, num = 15)], \n",
    "              'learning_rate': [(0.97 + x/100) for x in range(0, 8)], } \n",
    "\n",
    "params_test"
   ]
  },
  {
   "cell_type": "code",
   "execution_count": 386,
   "id": "2f7b4dfb",
   "metadata": {},
   "outputs": [
    {
     "data": {
      "text/plain": [
       "{'n_estimators': 36, 'learning_rate': 0.98}"
      ]
     },
     "execution_count": 386,
     "metadata": {},
     "output_type": "execute_result"
    }
   ],
   "source": [
    "from sklearn.model_selection import RandomizedSearchCV\n",
    "test_random = RandomizedSearchCV(random_state=49, estimator=modelA, param_distributions = params_test,n_iter =50, cv=5,n_jobs=-1)\n",
    "test_random.fit(X_train,y_train)\n",
    "\n",
    "test_random.best_params_"
   ]
  },
  {
   "cell_type": "code",
   "execution_count": 387,
   "id": "4b526d44",
   "metadata": {},
   "outputs": [
    {
     "name": "stdout",
     "output_type": "stream",
     "text": [
      "Accuracy: 0.86\n"
     ]
    }
   ],
   "source": [
    "modelAA_tuned = AdaBoostClassifier(n_estimators=36, random_state=49, learning_rate=0.98)\n",
    "modelAA_tuned.fit(X_train,y_train)\n",
    "\n",
    "y_pred = modelAA_tuned.predict(X_test)\n",
    "\n",
    "accuracy_tuned = accuracy_score(y_test, y_pred)\n",
    "print(f'Accuracy: {accuracy_tuned:.2f}')"
   ]
  },
  {
   "cell_type": "code",
   "execution_count": 388,
   "id": "616b5a22",
   "metadata": {},
   "outputs": [
    {
     "data": {
      "text/html": [
       "<div>\n",
       "<style scoped>\n",
       "    .dataframe tbody tr th:only-of-type {\n",
       "        vertical-align: middle;\n",
       "    }\n",
       "\n",
       "    .dataframe tbody tr th {\n",
       "        vertical-align: top;\n",
       "    }\n",
       "\n",
       "    .dataframe thead th {\n",
       "        text-align: right;\n",
       "    }\n",
       "</style>\n",
       "<table border=\"1\" class=\"dataframe\">\n",
       "  <thead>\n",
       "    <tr style=\"text-align: right;\">\n",
       "      <th></th>\n",
       "      <th>ML Algorithm</th>\n",
       "      <th>Accuracy</th>\n",
       "    </tr>\n",
       "  </thead>\n",
       "  <tbody>\n",
       "    <tr>\n",
       "      <th>0</th>\n",
       "      <td>Logistic Regression</td>\n",
       "      <td>74.67%</td>\n",
       "    </tr>\n",
       "    <tr>\n",
       "      <th>1</th>\n",
       "      <td>Decision Tree</td>\n",
       "      <td>51.20%</td>\n",
       "    </tr>\n",
       "    <tr>\n",
       "      <th>2</th>\n",
       "      <td>Random Forest</td>\n",
       "      <td>83.20%</td>\n",
       "    </tr>\n",
       "    <tr>\n",
       "      <th>3</th>\n",
       "      <td>K-Nearest Neighbors</td>\n",
       "      <td>69.60%</td>\n",
       "    </tr>\n",
       "    <tr>\n",
       "      <th>4</th>\n",
       "      <td>XGBoost</td>\n",
       "      <td>82.40%</td>\n",
       "    </tr>\n",
       "    <tr>\n",
       "      <th>5</th>\n",
       "      <td>Ada Booster Clasifier</td>\n",
       "      <td>85.33%</td>\n",
       "    </tr>\n",
       "    <tr>\n",
       "      <th>6</th>\n",
       "      <td>Ada Booster Clasifier (Tuned)</td>\n",
       "      <td>85.60%</td>\n",
       "    </tr>\n",
       "  </tbody>\n",
       "</table>\n",
       "</div>"
      ],
      "text/plain": [
       "                    ML Algorithm Accuracy\n",
       "0            Logistic Regression   74.67%\n",
       "1                  Decision Tree   51.20%\n",
       "2                  Random Forest   83.20%\n",
       "3            K-Nearest Neighbors   69.60%\n",
       "4                        XGBoost   82.40%\n",
       "5          Ada Booster Clasifier   85.33%\n",
       "6  Ada Booster Clasifier (Tuned)   85.60%"
      ]
     },
     "execution_count": 388,
     "metadata": {},
     "output_type": "execute_result"
    }
   ],
   "source": [
    "\n",
    "ml_algorithms = ['Logistic Regression', 'Decision Tree', 'Random Forest', 'K-Nearest Neighbors', 'XGBoost', 'Ada Booster Clasifier','Ada Booster Clasifier (Tuned)']\n",
    "accuracy_scores = [accuracyLR, accuracyDT, accuracyRF, accuracyKNN, accuracyXGB, accuracyABC,accuracy_tuned]  # Example accuracy scores\n",
    "accuracy_scores = [f'{score * 100:.2f}%' for score in accuracy_scores]\n",
    "df_algo = pd.DataFrame({'ML Algorithm': ml_algorithms, 'Accuracy': accuracy_scores})\n",
    "\n",
    "df_algo.head(7)"
   ]
  },
  {
   "cell_type": "code",
   "execution_count": 389,
   "id": "c25ab5c2",
   "metadata": {},
   "outputs": [
    {
     "data": {
      "image/png": "[encoded data removed]",
      "text/plain": [
       "<Figure size 1200x600 with 1 Axes>"
      ]
     },
     "metadata": {},
     "output_type": "display_data"
    }
   ],
   "source": [
    "df_algo['Accuracy'] = pd.to_numeric(df_algo['Accuracy'].str.rstrip('%'))\n",
    "df_algo.set_index('ML Algorithm')['Accuracy'].plot(kind='bar', figsize=(12, 6), color='skyblue')\n",
    "\n",
    "plt.ylabel('Accuracy')\n",
    "plt.title('Accuracy of ML Algorithms')\n",
    "plt.show()"
   ]
  },
  {
   "cell_type": "code",
   "execution_count": 390,
   "id": "89b13ebc",
   "metadata": {},
   "outputs": [
    {
     "name": "stdout",
     "output_type": "stream",
     "text": [
      "[[136  37]\n",
      " [ 17 185]]\n"
     ]
    }
   ],
   "source": [
    "from sklearn.metrics import confusion_matrix\n",
    "print(confusion_matrix(y_test,y_pred))"
   ]
  },
  {
   "cell_type": "code",
   "execution_count": 391,
   "id": "8f9c05d4",
   "metadata": {},
   "outputs": [
    {
     "name": "stdout",
     "output_type": "stream",
     "text": [
      "              precision    recall  f1-score   support\n",
      "\n",
      "           0       0.89      0.79      0.83       173\n",
      "           1       0.83      0.92      0.87       202\n",
      "\n",
      "    accuracy                           0.86       375\n",
      "   macro avg       0.86      0.85      0.85       375\n",
      "weighted avg       0.86      0.86      0.85       375\n",
      "\n"
     ]
    }
   ],
   "source": [
    "from sklearn.metrics import classification_report\n",
    "print(classification_report(y_test,y_pred))"
   ]
  }
 ],
 "metadata": {
  "kernelspec": {
   "display_name": "Python 3 (ipykernel)",
   "language": "python",
   "name": "python3"
  },
  "language_info": {
   "codemirror_mode": {
    "name": "ipython",
    "version": 3
   },
   "file_extension": ".py",
   "mimetype": "text/x-python",
   "name": "python",
   "nbconvert_exporter": "python",
   "pygments_lexer": "ipython3",
   "version": "3.11.5"
  }
 },
 "nbformat": 4,
 "nbformat_minor": 5
}
