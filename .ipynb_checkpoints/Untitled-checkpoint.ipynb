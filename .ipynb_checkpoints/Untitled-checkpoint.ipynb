{
 "cells": [
  {
   "cell_type": "code",
   "execution_count": 1,
   "id": "0b35696d",
   "metadata": {},
   "outputs": [],
   "source": [
    "import pandas as pd\n",
    "import numpy as np\n",
    "import matplotlib.pyplot as plt\n",
    "import seaborn as sns\n",
    "%matplotlib inline"
   ]
  },
  {
   "cell_type": "code",
   "execution_count": 2,
   "id": "8c5a3d59",
   "metadata": {},
   "outputs": [],
   "source": [
    "from sklearn.model_selection import train_test_split\n",
    "from sklearn.preprocessing import StandardScaler\n",
    "from sklearn.ensemble import RandomForestClassifier, AdaBoostClassifier"
   ]
  },
  {
   "cell_type": "code",
   "execution_count": 3,
   "id": "22bfe27d",
   "metadata": {},
   "outputs": [],
   "source": [
    "from sklearn.metrics import accuracy_score, classification_report"
   ]
  },
  {
   "cell_type": "code",
   "execution_count": 4,
   "id": "9300a46d",
   "metadata": {},
   "outputs": [],
   "source": [
    "df= pd.read_csv('survey.csv')"
   ]
  },
  {
   "cell_type": "code",
   "execution_count": 5,
   "id": "5130a3cd",
   "metadata": {},
   "outputs": [
    {
     "data": {
      "text/html": [
       "<div>\n",
       "<style scoped>\n",
       "    .dataframe tbody tr th:only-of-type {\n",
       "        vertical-align: middle;\n",
       "    }\n",
       "\n",
       "    .dataframe tbody tr th {\n",
       "        vertical-align: top;\n",
       "    }\n",
       "\n",
       "    .dataframe thead th {\n",
       "        text-align: right;\n",
       "    }\n",
       "</style>\n",
       "<table border=\"1\" class=\"dataframe\">\n",
       "  <thead>\n",
       "    <tr style=\"text-align: right;\">\n",
       "      <th></th>\n",
       "      <th>Timestamp</th>\n",
       "      <th>Age</th>\n",
       "      <th>Gender</th>\n",
       "      <th>Country</th>\n",
       "      <th>state</th>\n",
       "      <th>self_employed</th>\n",
       "      <th>family_history</th>\n",
       "      <th>treatment</th>\n",
       "      <th>work_interfere</th>\n",
       "      <th>no_employees</th>\n",
       "      <th>...</th>\n",
       "      <th>leave</th>\n",
       "      <th>mental_health_consequence</th>\n",
       "      <th>phys_health_consequence</th>\n",
       "      <th>coworkers</th>\n",
       "      <th>supervisor</th>\n",
       "      <th>mental_health_interview</th>\n",
       "      <th>phys_health_interview</th>\n",
       "      <th>mental_vs_physical</th>\n",
       "      <th>obs_consequence</th>\n",
       "      <th>comments</th>\n",
       "    </tr>\n",
       "  </thead>\n",
       "  <tbody>\n",
       "    <tr>\n",
       "      <th>0</th>\n",
       "      <td>2014-08-27 11:29:31</td>\n",
       "      <td>37</td>\n",
       "      <td>Female</td>\n",
       "      <td>United States</td>\n",
       "      <td>IL</td>\n",
       "      <td>NaN</td>\n",
       "      <td>No</td>\n",
       "      <td>Yes</td>\n",
       "      <td>Often</td>\n",
       "      <td>6-25</td>\n",
       "      <td>...</td>\n",
       "      <td>Somewhat easy</td>\n",
       "      <td>No</td>\n",
       "      <td>No</td>\n",
       "      <td>Some of them</td>\n",
       "      <td>Yes</td>\n",
       "      <td>No</td>\n",
       "      <td>Maybe</td>\n",
       "      <td>Yes</td>\n",
       "      <td>No</td>\n",
       "      <td>NaN</td>\n",
       "    </tr>\n",
       "    <tr>\n",
       "      <th>1</th>\n",
       "      <td>2014-08-27 11:29:37</td>\n",
       "      <td>44</td>\n",
       "      <td>M</td>\n",
       "      <td>United States</td>\n",
       "      <td>IN</td>\n",
       "      <td>NaN</td>\n",
       "      <td>No</td>\n",
       "      <td>No</td>\n",
       "      <td>Rarely</td>\n",
       "      <td>More than 1000</td>\n",
       "      <td>...</td>\n",
       "      <td>Don't know</td>\n",
       "      <td>Maybe</td>\n",
       "      <td>No</td>\n",
       "      <td>No</td>\n",
       "      <td>No</td>\n",
       "      <td>No</td>\n",
       "      <td>No</td>\n",
       "      <td>Don't know</td>\n",
       "      <td>No</td>\n",
       "      <td>NaN</td>\n",
       "    </tr>\n",
       "    <tr>\n",
       "      <th>2</th>\n",
       "      <td>2014-08-27 11:29:44</td>\n",
       "      <td>32</td>\n",
       "      <td>Male</td>\n",
       "      <td>Canada</td>\n",
       "      <td>NaN</td>\n",
       "      <td>NaN</td>\n",
       "      <td>No</td>\n",
       "      <td>No</td>\n",
       "      <td>Rarely</td>\n",
       "      <td>6-25</td>\n",
       "      <td>...</td>\n",
       "      <td>Somewhat difficult</td>\n",
       "      <td>No</td>\n",
       "      <td>No</td>\n",
       "      <td>Yes</td>\n",
       "      <td>Yes</td>\n",
       "      <td>Yes</td>\n",
       "      <td>Yes</td>\n",
       "      <td>No</td>\n",
       "      <td>No</td>\n",
       "      <td>NaN</td>\n",
       "    </tr>\n",
       "    <tr>\n",
       "      <th>3</th>\n",
       "      <td>2014-08-27 11:29:46</td>\n",
       "      <td>31</td>\n",
       "      <td>Male</td>\n",
       "      <td>United Kingdom</td>\n",
       "      <td>NaN</td>\n",
       "      <td>NaN</td>\n",
       "      <td>Yes</td>\n",
       "      <td>Yes</td>\n",
       "      <td>Often</td>\n",
       "      <td>26-100</td>\n",
       "      <td>...</td>\n",
       "      <td>Somewhat difficult</td>\n",
       "      <td>Yes</td>\n",
       "      <td>Yes</td>\n",
       "      <td>Some of them</td>\n",
       "      <td>No</td>\n",
       "      <td>Maybe</td>\n",
       "      <td>Maybe</td>\n",
       "      <td>No</td>\n",
       "      <td>Yes</td>\n",
       "      <td>NaN</td>\n",
       "    </tr>\n",
       "    <tr>\n",
       "      <th>4</th>\n",
       "      <td>2014-08-27 11:30:22</td>\n",
       "      <td>31</td>\n",
       "      <td>Male</td>\n",
       "      <td>United States</td>\n",
       "      <td>TX</td>\n",
       "      <td>NaN</td>\n",
       "      <td>No</td>\n",
       "      <td>No</td>\n",
       "      <td>Never</td>\n",
       "      <td>100-500</td>\n",
       "      <td>...</td>\n",
       "      <td>Don't know</td>\n",
       "      <td>No</td>\n",
       "      <td>No</td>\n",
       "      <td>Some of them</td>\n",
       "      <td>Yes</td>\n",
       "      <td>Yes</td>\n",
       "      <td>Yes</td>\n",
       "      <td>Don't know</td>\n",
       "      <td>No</td>\n",
       "      <td>NaN</td>\n",
       "    </tr>\n",
       "  </tbody>\n",
       "</table>\n",
       "<p>5 rows × 27 columns</p>\n",
       "</div>"
      ],
      "text/plain": [
       "             Timestamp  Age  Gender         Country state self_employed  \\\n",
       "0  2014-08-27 11:29:31   37  Female   United States    IL           NaN   \n",
       "1  2014-08-27 11:29:37   44       M   United States    IN           NaN   \n",
       "2  2014-08-27 11:29:44   32    Male          Canada   NaN           NaN   \n",
       "3  2014-08-27 11:29:46   31    Male  United Kingdom   NaN           NaN   \n",
       "4  2014-08-27 11:30:22   31    Male   United States    TX           NaN   \n",
       "\n",
       "  family_history treatment work_interfere    no_employees  ...  \\\n",
       "0             No       Yes          Often            6-25  ...   \n",
       "1             No        No         Rarely  More than 1000  ...   \n",
       "2             No        No         Rarely            6-25  ...   \n",
       "3            Yes       Yes          Often          26-100  ...   \n",
       "4             No        No          Never         100-500  ...   \n",
       "\n",
       "                leave mental_health_consequence phys_health_consequence  \\\n",
       "0       Somewhat easy                        No                      No   \n",
       "1          Don't know                     Maybe                      No   \n",
       "2  Somewhat difficult                        No                      No   \n",
       "3  Somewhat difficult                       Yes                     Yes   \n",
       "4          Don't know                        No                      No   \n",
       "\n",
       "      coworkers supervisor mental_health_interview phys_health_interview  \\\n",
       "0  Some of them        Yes                      No                 Maybe   \n",
       "1            No         No                      No                    No   \n",
       "2           Yes        Yes                     Yes                   Yes   \n",
       "3  Some of them         No                   Maybe                 Maybe   \n",
       "4  Some of them        Yes                     Yes                   Yes   \n",
       "\n",
       "  mental_vs_physical obs_consequence comments  \n",
       "0                Yes              No      NaN  \n",
       "1         Don't know              No      NaN  \n",
       "2                 No              No      NaN  \n",
       "3                 No             Yes      NaN  \n",
       "4         Don't know              No      NaN  \n",
       "\n",
       "[5 rows x 27 columns]"
      ]
     },
     "execution_count": 5,
     "metadata": {},
     "output_type": "execute_result"
    }
   ],
   "source": [
    "df.head()"
   ]
  },
  {
   "cell_type": "code",
   "execution_count": 6,
   "id": "f9d0d4dc",
   "metadata": {},
   "outputs": [
    {
     "data": {
      "text/plain": [
       "(1259, 27)"
      ]
     },
     "execution_count": 6,
     "metadata": {},
     "output_type": "execute_result"
    }
   ],
   "source": [
    "df.shape"
   ]
  },
  {
   "cell_type": "code",
   "execution_count": 7,
   "id": "4fd43468",
   "metadata": {},
   "outputs": [
    {
     "name": "stdout",
     "output_type": "stream",
     "text": [
      "<class 'pandas.core.frame.DataFrame'>\n",
      "RangeIndex: 1259 entries, 0 to 1258\n",
      "Data columns (total 27 columns):\n",
      " #   Column                     Non-Null Count  Dtype \n",
      "---  ------                     --------------  ----- \n",
      " 0   Timestamp                  1259 non-null   object\n",
      " 1   Age                        1259 non-null   int64 \n",
      " 2   Gender                     1259 non-null   object\n",
      " 3   Country                    1259 non-null   object\n",
      " 4   state                      744 non-null    object\n",
      " 5   self_employed              1241 non-null   object\n",
      " 6   family_history             1259 non-null   object\n",
      " 7   treatment                  1259 non-null   object\n",
      " 8   work_interfere             995 non-null    object\n",
      " 9   no_employees               1259 non-null   object\n",
      " 10  remote_work                1259 non-null   object\n",
      " 11  tech_company               1259 non-null   object\n",
      " 12  benefits                   1259 non-null   object\n",
      " 13  care_options               1259 non-null   object\n",
      " 14  wellness_program           1259 non-null   object\n",
      " 15  seek_help                  1259 non-null   object\n",
      " 16  anonymity                  1259 non-null   object\n",
      " 17  leave                      1259 non-null   object\n",
      " 18  mental_health_consequence  1259 non-null   object\n",
      " 19  phys_health_consequence    1259 non-null   object\n",
      " 20  coworkers                  1259 non-null   object\n",
      " 21  supervisor                 1259 non-null   object\n",
      " 22  mental_health_interview    1259 non-null   object\n",
      " 23  phys_health_interview      1259 non-null   object\n",
      " 24  mental_vs_physical         1259 non-null   object\n",
      " 25  obs_consequence            1259 non-null   object\n",
      " 26  comments                   164 non-null    object\n",
      "dtypes: int64(1), object(26)\n",
      "memory usage: 265.7+ KB\n"
     ]
    }
   ],
   "source": [
    "df.info()"
   ]
  },
  {
   "cell_type": "code",
   "execution_count": 8,
   "id": "f994df77",
   "metadata": {},
   "outputs": [],
   "source": [
    "df.drop(['Country','state','Timestamp','comments'],axis=1,inplace = True)"
   ]
  },
  {
   "cell_type": "code",
   "execution_count": 9,
   "id": "582ebfd9",
   "metadata": {},
   "outputs": [
    {
     "data": {
      "text/plain": [
       "Age                            0\n",
       "Gender                         0\n",
       "self_employed                 18\n",
       "family_history                 0\n",
       "treatment                      0\n",
       "work_interfere               264\n",
       "no_employees                   0\n",
       "remote_work                    0\n",
       "tech_company                   0\n",
       "benefits                       0\n",
       "care_options                   0\n",
       "wellness_program               0\n",
       "seek_help                      0\n",
       "anonymity                      0\n",
       "leave                          0\n",
       "mental_health_consequence      0\n",
       "phys_health_consequence        0\n",
       "coworkers                      0\n",
       "supervisor                     0\n",
       "mental_health_interview        0\n",
       "phys_health_interview          0\n",
       "mental_vs_physical             0\n",
       "obs_consequence                0\n",
       "dtype: int64"
      ]
     },
     "execution_count": 9,
     "metadata": {},
     "output_type": "execute_result"
    }
   ],
   "source": [
    "df.isnull().sum()"
   ]
  },
  {
   "cell_type": "code",
   "execution_count": 10,
   "id": "65c73f3d",
   "metadata": {},
   "outputs": [],
   "source": [
    "df['self_employed'].fillna('No', inplace= True)"
   ]
  },
  {
   "cell_type": "code",
   "execution_count": 11,
   "id": "c0857fda",
   "metadata": {},
   "outputs": [],
   "source": [
    "df['work_interfere'].fillna('N/A', inplace= True)"
   ]
  },
  {
   "cell_type": "code",
   "execution_count": 12,
   "id": "d63ee51f",
   "metadata": {},
   "outputs": [],
   "source": [
    "df.drop(df[(df['Age']>60) | (df['Age']<18)] .index, inplace = True)"
   ]
  },
  {
   "cell_type": "code",
   "execution_count": 13,
   "id": "9f3a848d",
   "metadata": {},
   "outputs": [],
   "source": [
    "'''\n",
    "0 Male\n",
    "1 Female\n",
    "2 Trans\n",
    "'''\n",
    "\n",
    "df['Gender'].replace([ 'Male', 'male', 'M', 'm', 'Male', 'Cis Male', \n",
    "                        'Man', 'cis male', 'Mail', 'Male-ish', 'Male (CIS)', \n",
    "                        'Cis Man', 'msle', 'Malr', 'Mal', 'maile', 'Make', 'ostensibly male, unsure what that really means ',], 0, inplace=True)\n",
    "\n",
    "df['Gender'].replace([ 'Female', 'female', 'F', 'f', 'Woman', \n",
    "                        'Female', 'femail', 'Cis Female', 'cis-female/femme', \n",
    "                        'Femake', 'Female (cis)', 'woman','Male','Female' ], 1, inplace=True)\n",
    "\n",
    "df[\"Gender\"].replace(['Female (trans)', 'queer/she/they', 'non-binary',\n",
    "                        'fluid', 'queer', 'Androgyne', 'Trans-female', \n",
    "                        'male learning androgynous', 'Agender', \n",
    "                        'A little about you', 'Nah', 'All', 'ostensibly male', \n",
    "                        'unsure what that really means','Genderqueer', 'Enby', 'p', \n",
    "                        'Neuter', 'something kinda male?', 'Guy (-ish) ^_^', 'Trans woman', ], \n",
    "                       2, inplace=True)"
   ]
  },
  {
   "cell_type": "code",
   "execution_count": 14,
   "id": "878125e8",
   "metadata": {},
   "outputs": [],
   "source": [
    "df[\"Gender\"].replace(['Male ','Female ','male leaning androgynous','ostensibly male, unsure what that really means'], \n",
    "                       2, inplace=True)"
   ]
  },
  {
   "cell_type": "code",
   "execution_count": 15,
   "id": "cbee6c23",
   "metadata": {},
   "outputs": [
    {
     "data": {
      "text/plain": [
       "0    980\n",
       "1    244\n",
       "2     23\n",
       "Name: Gender, dtype: int64"
      ]
     },
     "execution_count": 15,
     "metadata": {},
     "output_type": "execute_result"
    }
   ],
   "source": [
    "df['Gender'].value_counts()"
   ]
  },
  {
   "cell_type": "code",
   "execution_count": 16,
   "id": "c17001db",
   "metadata": {},
   "outputs": [
    {
     "data": {
      "text/plain": [
       "No     1107\n",
       "Yes     140\n",
       "Name: self_employed, dtype: int64"
      ]
     },
     "execution_count": 16,
     "metadata": {},
     "output_type": "execute_result"
    }
   ],
   "source": [
    "df['self_employed'].value_counts()"
   ]
  },
  {
   "cell_type": "code",
   "execution_count": 17,
   "id": "158c92b5",
   "metadata": {},
   "outputs": [],
   "source": [
    "'''\n",
    "0 No\n",
    "1 Yes\n",
    "'''\n",
    "df[\"self_employed\"].replace(['No'], 0, inplace=True)\n",
    "df[\"self_employed\"].replace(['Yes'], 1, inplace=True)"
   ]
  },
  {
   "cell_type": "code",
   "execution_count": 18,
   "id": "709481ce",
   "metadata": {},
   "outputs": [
    {
     "data": {
      "text/plain": [
       "No     759\n",
       "Yes    488\n",
       "Name: family_history, dtype: int64"
      ]
     },
     "execution_count": 18,
     "metadata": {},
     "output_type": "execute_result"
    }
   ],
   "source": [
    "df['family_history'].value_counts()"
   ]
  },
  {
   "cell_type": "code",
   "execution_count": 19,
   "id": "90dffbc6",
   "metadata": {},
   "outputs": [],
   "source": [
    "'''\n",
    "0 No\n",
    "1 Yes\n",
    "'''\n",
    "df[\"family_history\"].replace(['No'], 0, inplace=True)\n",
    "df[\"family_history\"].replace(['Yes'], 1, inplace=True)"
   ]
  },
  {
   "cell_type": "code",
   "execution_count": 20,
   "id": "c7339a10",
   "metadata": {},
   "outputs": [
    {
     "data": {
      "text/plain": [
       "Yes    630\n",
       "No     617\n",
       "Name: treatment, dtype: int64"
      ]
     },
     "execution_count": 20,
     "metadata": {},
     "output_type": "execute_result"
    }
   ],
   "source": [
    "df['treatment'].value_counts()"
   ]
  },
  {
   "cell_type": "code",
   "execution_count": 21,
   "id": "166a00c0",
   "metadata": {},
   "outputs": [],
   "source": [
    "'''\n",
    "0 No\n",
    "1 Yes\n",
    "'''\n",
    "df[\"treatment\"].replace(['No'], 0, inplace=True)\n",
    "df[\"treatment\"].replace(['Yes'], 1, inplace=True)"
   ]
  },
  {
   "cell_type": "code",
   "execution_count": 22,
   "id": "43d6600c",
   "metadata": {},
   "outputs": [
    {
     "data": {
      "text/plain": [
       "Sometimes    463\n",
       "N/A          261\n",
       "Never        210\n",
       "Rarely       173\n",
       "Often        140\n",
       "Name: work_interfere, dtype: int64"
      ]
     },
     "execution_count": 22,
     "metadata": {},
     "output_type": "execute_result"
    }
   ],
   "source": [
    "df['work_interfere'].value_counts()"
   ]
  },
  {
   "cell_type": "code",
   "execution_count": 23,
   "id": "943136e4",
   "metadata": {},
   "outputs": [],
   "source": [
    "'''\n",
    "Sometimes    1\n",
    "N/A          0\n",
    "Never        2\n",
    "Rarely       3\n",
    "Often        4\n",
    "'''\n",
    "df[\"work_interfere\"].replace(['N/A'], 0, inplace=True)\n",
    "df[\"work_interfere\"].replace(['Sometimes'], 1, inplace=True)\n",
    "df[\"work_interfere\"].replace(['Never'], 2, inplace=True)\n",
    "df[\"work_interfere\"].replace(['Rarely'], 3, inplace=True)\n",
    "df[\"work_interfere\"].replace(['Often'], 4, inplace=True)"
   ]
  },
  {
   "cell_type": "code",
   "execution_count": 24,
   "id": "a5d6c9a9",
   "metadata": {},
   "outputs": [],
   "source": [
    "'''\n",
    "6-25              1\n",
    "26-100            2\n",
    "More than 1000    5\n",
    "100-500           3\n",
    "1-5               0\n",
    "500-1000          4\n",
    "'''\n",
    "df[\"no_employees\"].replace(['1-5',], 0, inplace=True)\n",
    "df[\"no_employees\"].replace(['6-25'], 1, inplace=True)\n",
    "df[\"no_employees\"].replace(['26-100'], 2, inplace=True)\n",
    "df[\"no_employees\"].replace(['100-500'], 3, inplace=True)\n",
    "df[\"no_employees\"].replace(['500-1000'], 4, inplace=True)\n",
    "df[\"no_employees\"].replace(['More than 1000'], 5, inplace=True)"
   ]
  },
  {
   "cell_type": "code",
   "execution_count": 25,
   "id": "49be3a56",
   "metadata": {},
   "outputs": [
    {
     "data": {
      "text/plain": [
       "1    288\n",
       "2    288\n",
       "5    280\n",
       "3    175\n",
       "0    157\n",
       "4     59\n",
       "Name: no_employees, dtype: int64"
      ]
     },
     "execution_count": 25,
     "metadata": {},
     "output_type": "execute_result"
    }
   ],
   "source": [
    "df['no_employees'].value_counts()"
   ]
  },
  {
   "cell_type": "code",
   "execution_count": 26,
   "id": "46a9cf06",
   "metadata": {},
   "outputs": [],
   "source": [
    "'''\n",
    "0 No\n",
    "1 Yes\n",
    "'''\n",
    "df[\"tech_company\"].replace(['No'], 0, inplace=True)\n",
    "df[\"tech_company\"].replace(['Yes'], 1, inplace=True)"
   ]
  },
  {
   "cell_type": "code",
   "execution_count": 27,
   "id": "edbf87f6",
   "metadata": {},
   "outputs": [
    {
     "data": {
      "text/plain": [
       "1    1023\n",
       "0     224\n",
       "Name: tech_company, dtype: int64"
      ]
     },
     "execution_count": 27,
     "metadata": {},
     "output_type": "execute_result"
    }
   ],
   "source": [
    "df['tech_company'].value_counts()"
   ]
  },
  {
   "cell_type": "code",
   "execution_count": 28,
   "id": "a8ab279a",
   "metadata": {},
   "outputs": [],
   "source": [
    "'''\n",
    "0 No\n",
    "1 Yes\n",
    "'''\n",
    "df[\"remote_work\"].replace(['No'], 0, inplace=True)\n",
    "df[\"remote_work\"].replace(['Yes'], 1, inplace=True)"
   ]
  },
  {
   "cell_type": "code",
   "execution_count": 29,
   "id": "26ee9838",
   "metadata": {},
   "outputs": [
    {
     "data": {
      "text/plain": [
       "0    879\n",
       "1    368\n",
       "Name: remote_work, dtype: int64"
      ]
     },
     "execution_count": 29,
     "metadata": {},
     "output_type": "execute_result"
    }
   ],
   "source": [
    "df['remote_work'].value_counts()"
   ]
  },
  {
   "cell_type": "code",
   "execution_count": 30,
   "id": "d1830a4e",
   "metadata": {},
   "outputs": [],
   "source": [
    "'''\n",
    "0 No\n",
    "1 Yes\n",
    "2 Don't know\n",
    "'''\n",
    "df[\"benefits\"].replace(['No'], 0, inplace=True)\n",
    "df[\"benefits\"].replace(['Yes'], 1, inplace=True)\n",
    "df[\"benefits\"].replace(['Don\\'t know'], 2, inplace=True)"
   ]
  },
  {
   "cell_type": "code",
   "execution_count": 31,
   "id": "96690edd",
   "metadata": {},
   "outputs": [
    {
     "data": {
      "text/plain": [
       "1    471\n",
       "2    407\n",
       "0    369\n",
       "Name: benefits, dtype: int64"
      ]
     },
     "execution_count": 31,
     "metadata": {},
     "output_type": "execute_result"
    }
   ],
   "source": [
    "df['benefits'].value_counts()"
   ]
  },
  {
   "cell_type": "code",
   "execution_count": 32,
   "id": "c8472b0e",
   "metadata": {},
   "outputs": [],
   "source": [
    "'''\n",
    "0 No\n",
    "1 Yes\n",
    "2 Not sure\n",
    "'''\n",
    "df[\"care_options\"].replace(['No'], 0, inplace=True)\n",
    "df[\"care_options\"].replace(['Yes'], 1, inplace=True)\n",
    "df[\"care_options\"].replace(['Not sure'], 2, inplace=True)              "
   ]
  },
  {
   "cell_type": "code",
   "execution_count": 33,
   "id": "4c29cc56",
   "metadata": {},
   "outputs": [
    {
     "data": {
      "text/plain": [
       "0    497\n",
       "1    438\n",
       "2    312\n",
       "Name: care_options, dtype: int64"
      ]
     },
     "execution_count": 33,
     "metadata": {},
     "output_type": "execute_result"
    }
   ],
   "source": [
    "df['care_options'].value_counts()"
   ]
  },
  {
   "cell_type": "code",
   "execution_count": 34,
   "id": "e2f9718b",
   "metadata": {},
   "outputs": [],
   "source": [
    "'''\n",
    "0 No\n",
    "1 Yes\n",
    "2 Don't know\n",
    "'''\n",
    "df[\"wellness_program\"].replace(['No'], 0, inplace=True)\n",
    "df[\"wellness_program\"].replace(['Yes'], 1, inplace=True)\n",
    "df[\"wellness_program\"].replace(['Don\\'t know'], 2, inplace=True)"
   ]
  },
  {
   "cell_type": "code",
   "execution_count": 35,
   "id": "5401cfa2",
   "metadata": {},
   "outputs": [
    {
     "data": {
      "text/plain": [
       "0    835\n",
       "1    227\n",
       "2    185\n",
       "Name: wellness_program, dtype: int64"
      ]
     },
     "execution_count": 35,
     "metadata": {},
     "output_type": "execute_result"
    }
   ],
   "source": [
    "df['wellness_program'].value_counts()"
   ]
  },
  {
   "cell_type": "code",
   "execution_count": 36,
   "id": "8dd0b381",
   "metadata": {},
   "outputs": [],
   "source": [
    "'''\n",
    "0 No\n",
    "1 Yes\n",
    "2 Don't know\n",
    "'''\n",
    "df[\"seek_help\"].replace(['No'], 0, inplace=True)\n",
    "df[\"seek_help\"].replace(['Yes'], 1, inplace=True)\n",
    "df[\"seek_help\"].replace(['Don\\'t know'], 2, inplace=True)"
   ]
  },
  {
   "cell_type": "code",
   "execution_count": 37,
   "id": "cf153dbc",
   "metadata": {},
   "outputs": [
    {
     "data": {
      "text/plain": [
       "0    639\n",
       "2    363\n",
       "1    245\n",
       "Name: seek_help, dtype: int64"
      ]
     },
     "execution_count": 37,
     "metadata": {},
     "output_type": "execute_result"
    }
   ],
   "source": [
    "df['seek_help'].value_counts()"
   ]
  },
  {
   "cell_type": "code",
   "execution_count": 38,
   "id": "0bbcffc2",
   "metadata": {},
   "outputs": [],
   "source": [
    "'''\n",
    "0 No\n",
    "1 Yes\n",
    "2 Don't know\n",
    "'''\n",
    "df[\"anonymity\"].replace(['No'], 0, inplace=True)\n",
    "df[\"anonymity\"].replace(['Yes'], 1, inplace=True)\n",
    "df[\"anonymity\"].replace(['Don\\'t know'], 2, inplace=True)                    "
   ]
  },
  {
   "cell_type": "code",
   "execution_count": 39,
   "id": "08918b2d",
   "metadata": {},
   "outputs": [
    {
     "data": {
      "text/plain": [
       "2    811\n",
       "1    372\n",
       "0     64\n",
       "Name: anonymity, dtype: int64"
      ]
     },
     "execution_count": 39,
     "metadata": {},
     "output_type": "execute_result"
    }
   ],
   "source": [
    "df['anonymity'].value_counts()"
   ]
  },
  {
   "cell_type": "code",
   "execution_count": 40,
   "id": "eb043da4",
   "metadata": {},
   "outputs": [],
   "source": [
    "'''\n",
    "Don't know            0\n",
    "Somewhat easy         1\n",
    "Very easy             2\n",
    "Somewhat difficult    3\n",
    "Very difficult        4\n",
    "'''\n",
    "df[\"leave\"].replace(['Don\\'t know',], 0, inplace=True)\n",
    "df[\"leave\"].replace(['Somewhat easy'], 1, inplace=True)\n",
    "df[\"leave\"].replace(['Very easy'], 2, inplace=True)\n",
    "df[\"leave\"].replace(['Somewhat difficult'], 3, inplace=True)\n",
    "df[\"leave\"].replace(['Very difficult'], 4, inplace=True)"
   ]
  },
  {
   "cell_type": "code",
   "execution_count": 41,
   "id": "7d69bc17",
   "metadata": {},
   "outputs": [
    {
     "data": {
      "text/plain": [
       "0    560\n",
       "1    264\n",
       "2    202\n",
       "3    125\n",
       "4     96\n",
       "Name: leave, dtype: int64"
      ]
     },
     "execution_count": 41,
     "metadata": {},
     "output_type": "execute_result"
    }
   ],
   "source": [
    "df['leave'].value_counts()"
   ]
  },
  {
   "cell_type": "code",
   "execution_count": 42,
   "id": "bf6a2841",
   "metadata": {},
   "outputs": [],
   "source": [
    "'''\n",
    "0 No\n",
    "1 Yes\n",
    "2 Maybe\n",
    "'''\n",
    "df[\"mental_health_consequence\"].replace(['No'], 0, inplace=True)\n",
    "df[\"mental_health_consequence\"].replace(['Yes'], 1, inplace=True)\n",
    "df[\"mental_health_consequence\"].replace(['Maybe'], 2, inplace=True)   "
   ]
  },
  {
   "cell_type": "code",
   "execution_count": 43,
   "id": "cf83d7a9",
   "metadata": {},
   "outputs": [
    {
     "data": {
      "text/plain": [
       "0    487\n",
       "2    473\n",
       "1    287\n",
       "Name: mental_health_consequence, dtype: int64"
      ]
     },
     "execution_count": 43,
     "metadata": {},
     "output_type": "execute_result"
    }
   ],
   "source": [
    "df['mental_health_consequence'].value_counts()"
   ]
  },
  {
   "cell_type": "code",
   "execution_count": 44,
   "id": "950552cb",
   "metadata": {},
   "outputs": [],
   "source": [
    "'''\n",
    "0 No\n",
    "1 Yes\n",
    "2 Maybe\n",
    "'''\n",
    "df[\"phys_health_consequence\"].replace(['No'], 0, inplace=True)\n",
    "df[\"phys_health_consequence\"].replace(['Yes'], 1, inplace=True)\n",
    "df[\"phys_health_consequence\"].replace(['Maybe'], 2, inplace=True)   "
   ]
  },
  {
   "cell_type": "code",
   "execution_count": 45,
   "id": "a3c64a0e",
   "metadata": {},
   "outputs": [
    {
     "data": {
      "text/plain": [
       "0    918\n",
       "2    271\n",
       "1     58\n",
       "Name: phys_health_consequence, dtype: int64"
      ]
     },
     "execution_count": 45,
     "metadata": {},
     "output_type": "execute_result"
    }
   ],
   "source": [
    "df['phys_health_consequence'].value_counts()"
   ]
  },
  {
   "cell_type": "code",
   "execution_count": 46,
   "id": "c18f0337",
   "metadata": {},
   "outputs": [],
   "source": [
    "'''\n",
    "0 No\n",
    "1 Yes\n",
    "2 Some of them\n",
    "'''\n",
    "df[\"coworkers\"].replace(['No'], 0, inplace=True)\n",
    "df[\"coworkers\"].replace(['Yes'], 1, inplace=True)\n",
    "df[\"coworkers\"].replace(['Some of them'], 2, inplace=True)                       "
   ]
  },
  {
   "cell_type": "code",
   "execution_count": 47,
   "id": "ae7756ad",
   "metadata": {},
   "outputs": [
    {
     "data": {
      "text/plain": [
       "2    767\n",
       "0    258\n",
       "1    222\n",
       "Name: coworkers, dtype: int64"
      ]
     },
     "execution_count": 47,
     "metadata": {},
     "output_type": "execute_result"
    }
   ],
   "source": [
    "df['coworkers'].value_counts()"
   ]
  },
  {
   "cell_type": "code",
   "execution_count": 48,
   "id": "97a796f8",
   "metadata": {},
   "outputs": [],
   "source": [
    "'''\n",
    "0 No\n",
    "1 Yes\n",
    "2 Some of them\n",
    "'''\n",
    "df[\"supervisor\"].replace(['No'], 0, inplace=True)\n",
    "df[\"supervisor\"].replace(['Yes'], 1, inplace=True)\n",
    "df[\"supervisor\"].replace(['Some of them'], 2, inplace=True)                     "
   ]
  },
  {
   "cell_type": "code",
   "execution_count": 49,
   "id": "ef78ef7a",
   "metadata": {},
   "outputs": [
    {
     "data": {
      "text/plain": [
       "1    509\n",
       "0    389\n",
       "2    349\n",
       "Name: supervisor, dtype: int64"
      ]
     },
     "execution_count": 49,
     "metadata": {},
     "output_type": "execute_result"
    }
   ],
   "source": [
    "df['supervisor'].value_counts()"
   ]
  },
  {
   "cell_type": "code",
   "execution_count": 50,
   "id": "9f4f4003",
   "metadata": {},
   "outputs": [],
   "source": [
    "'''\n",
    "0 No\n",
    "1 Yes\n",
    "2 Maybe\n",
    "'''\n",
    "df[\"mental_health_interview\"].replace(['No'], 0, inplace=True)\n",
    "df[\"mental_health_interview\"].replace(['Yes'], 1, inplace=True)\n",
    "df[\"mental_health_interview\"].replace(['Maybe'], 2, inplace=True)    "
   ]
  },
  {
   "cell_type": "code",
   "execution_count": 51,
   "id": "6f227342",
   "metadata": {},
   "outputs": [
    {
     "data": {
      "text/plain": [
       "0    1000\n",
       "2     206\n",
       "1      41\n",
       "Name: mental_health_interview, dtype: int64"
      ]
     },
     "execution_count": 51,
     "metadata": {},
     "output_type": "execute_result"
    }
   ],
   "source": [
    "df['mental_health_interview'].value_counts()"
   ]
  },
  {
   "cell_type": "code",
   "execution_count": 52,
   "id": "6537af43",
   "metadata": {},
   "outputs": [],
   "source": [
    "'''\n",
    "0 No\n",
    "1 Yes\n",
    "2 Maybe\n",
    "'''\n",
    "df[\"phys_health_interview\"].replace(['No'], 0, inplace=True)\n",
    "df[\"phys_health_interview\"].replace(['Yes'], 1, inplace=True)\n",
    "df[\"phys_health_interview\"].replace(['Maybe'], 2, inplace=True)    "
   ]
  },
  {
   "cell_type": "code",
   "execution_count": 53,
   "id": "3584cab7",
   "metadata": {},
   "outputs": [
    {
     "data": {
      "text/plain": [
       "2    553\n",
       "0    494\n",
       "1    200\n",
       "Name: phys_health_interview, dtype: int64"
      ]
     },
     "execution_count": 53,
     "metadata": {},
     "output_type": "execute_result"
    }
   ],
   "source": [
    "df['phys_health_interview'].value_counts()"
   ]
  },
  {
   "cell_type": "code",
   "execution_count": 54,
   "id": "5b07d189",
   "metadata": {},
   "outputs": [],
   "source": [
    "'''\n",
    "0 No\n",
    "1 Yes\n",
    "2 Don't know\n",
    "'''\n",
    "df[\"mental_vs_physical\"].replace(['No'], 0, inplace=True)\n",
    "df[\"mental_vs_physical\"].replace(['Yes'], 1, inplace=True)\n",
    "df[\"mental_vs_physical\"].replace(['Don\\'t know'], 2, inplace=True)                    "
   ]
  },
  {
   "cell_type": "code",
   "execution_count": 55,
   "id": "6e4b0026",
   "metadata": {},
   "outputs": [
    {
     "data": {
      "text/plain": [
       "2    573\n",
       "1    337\n",
       "0    337\n",
       "Name: mental_vs_physical, dtype: int64"
      ]
     },
     "execution_count": 55,
     "metadata": {},
     "output_type": "execute_result"
    }
   ],
   "source": [
    "df['mental_vs_physical'].value_counts()"
   ]
  },
  {
   "cell_type": "code",
   "execution_count": 56,
   "id": "d54ee1ac",
   "metadata": {},
   "outputs": [],
   "source": [
    "'''\n",
    "0 No\n",
    "1 Yes\n",
    "'''\n",
    "df[\"obs_consequence\"].replace(['No'], 0, inplace=True)\n",
    "df[\"obs_consequence\"].replace(['Yes'], 1, inplace=True)               "
   ]
  },
  {
   "cell_type": "code",
   "execution_count": 57,
   "id": "9a622705",
   "metadata": {},
   "outputs": [
    {
     "data": {
      "text/plain": [
       "0    1068\n",
       "1     179\n",
       "Name: obs_consequence, dtype: int64"
      ]
     },
     "execution_count": 57,
     "metadata": {},
     "output_type": "execute_result"
    }
   ],
   "source": [
    "df['obs_consequence'].value_counts()"
   ]
  },
  {
   "cell_type": "code",
   "execution_count": 58,
   "id": "fa5dcb97",
   "metadata": {},
   "outputs": [],
   "source": [
    "X=df.drop('treatment',axis=1)\n",
    "y=df['treatment']"
   ]
  },
  {
   "cell_type": "code",
   "execution_count": 59,
   "id": "2fa1555b",
   "metadata": {},
   "outputs": [],
   "source": [
    "X_train, X_test, y_train, y_test = train_test_split(X, y, test_size=0.3, random_state=101)"
   ]
  },
  {
   "cell_type": "code",
   "execution_count": 60,
   "id": "26625cae",
   "metadata": {},
   "outputs": [],
   "source": [
    "scaler = StandardScaler()\n",
    "X_train = scaler.fit_transform(X_train)\n",
    "X_test = scaler.transform(X_test)"
   ]
  },
  {
   "cell_type": "code",
   "execution_count": 61,
   "id": "c3f26824",
   "metadata": {},
   "outputs": [
    {
     "data": {
      "text/html": [
       "<style>#sk-container-id-1 {color: black;background-color: white;}#sk-container-id-1 pre{padding: 0;}#sk-container-id-1 div.sk-toggleable {background-color: white;}#sk-container-id-1 label.sk-toggleable__label {cursor: pointer;display: block;width: 100%;margin-bottom: 0;padding: 0.3em;box-sizing: border-box;text-align: center;}#sk-container-id-1 label.sk-toggleable__label-arrow:before {content: \"▸\";float: left;margin-right: 0.25em;color: #696969;}#sk-container-id-1 label.sk-toggleable__label-arrow:hover:before {color: black;}#sk-container-id-1 div.sk-estimator:hover label.sk-toggleable__label-arrow:before {color: black;}#sk-container-id-1 div.sk-toggleable__content {max-height: 0;max-width: 0;overflow: hidden;text-align: left;background-color: #f0f8ff;}#sk-container-id-1 div.sk-toggleable__content pre {margin: 0.2em;color: black;border-radius: 0.25em;background-color: #f0f8ff;}#sk-container-id-1 input.sk-toggleable__control:checked~div.sk-toggleable__content {max-height: 200px;max-width: 100%;overflow: auto;}#sk-container-id-1 input.sk-toggleable__control:checked~label.sk-toggleable__label-arrow:before {content: \"▾\";}#sk-container-id-1 div.sk-estimator input.sk-toggleable__control:checked~label.sk-toggleable__label {background-color: #d4ebff;}#sk-container-id-1 div.sk-label input.sk-toggleable__control:checked~label.sk-toggleable__label {background-color: #d4ebff;}#sk-container-id-1 input.sk-hidden--visually {border: 0;clip: rect(1px 1px 1px 1px);clip: rect(1px, 1px, 1px, 1px);height: 1px;margin: -1px;overflow: hidden;padding: 0;position: absolute;width: 1px;}#sk-container-id-1 div.sk-estimator {font-family: monospace;background-color: #f0f8ff;border: 1px dotted black;border-radius: 0.25em;box-sizing: border-box;margin-bottom: 0.5em;}#sk-container-id-1 div.sk-estimator:hover {background-color: #d4ebff;}#sk-container-id-1 div.sk-parallel-item::after {content: \"\";width: 100%;border-bottom: 1px solid gray;flex-grow: 1;}#sk-container-id-1 div.sk-label:hover label.sk-toggleable__label {background-color: #d4ebff;}#sk-container-id-1 div.sk-serial::before {content: \"\";position: absolute;border-left: 1px solid gray;box-sizing: border-box;top: 0;bottom: 0;left: 50%;z-index: 0;}#sk-container-id-1 div.sk-serial {display: flex;flex-direction: column;align-items: center;background-color: white;padding-right: 0.2em;padding-left: 0.2em;position: relative;}#sk-container-id-1 div.sk-item {position: relative;z-index: 1;}#sk-container-id-1 div.sk-parallel {display: flex;align-items: stretch;justify-content: center;background-color: white;position: relative;}#sk-container-id-1 div.sk-item::before, #sk-container-id-1 div.sk-parallel-item::before {content: \"\";position: absolute;border-left: 1px solid gray;box-sizing: border-box;top: 0;bottom: 0;left: 50%;z-index: -1;}#sk-container-id-1 div.sk-parallel-item {display: flex;flex-direction: column;z-index: 1;position: relative;background-color: white;}#sk-container-id-1 div.sk-parallel-item:first-child::after {align-self: flex-end;width: 50%;}#sk-container-id-1 div.sk-parallel-item:last-child::after {align-self: flex-start;width: 50%;}#sk-container-id-1 div.sk-parallel-item:only-child::after {width: 0;}#sk-container-id-1 div.sk-dashed-wrapped {border: 1px dashed gray;margin: 0 0.4em 0.5em 0.4em;box-sizing: border-box;padding-bottom: 0.4em;background-color: white;}#sk-container-id-1 div.sk-label label {font-family: monospace;font-weight: bold;display: inline-block;line-height: 1.2em;}#sk-container-id-1 div.sk-label-container {text-align: center;}#sk-container-id-1 div.sk-container {/* jupyter's `normalize.less` sets `[hidden] { display: none; }` but bootstrap.min.css set `[hidden] { display: none !important; }` so we also need the `!important` here to be able to override the default hidden behavior on the sphinx rendered scikit-learn.org. See: https://github.com/scikit-learn/scikit-learn/issues/21755 */display: inline-block !important;position: relative;}#sk-container-id-1 div.sk-text-repr-fallback {display: none;}</style><div id=\"sk-container-id-1\" class=\"sk-top-container\"><div class=\"sk-text-repr-fallback\"><pre>RandomForestClassifier(n_estimators=50, random_state=42)</pre><b>In a Jupyter environment, please rerun this cell to show the HTML representation or trust the notebook. <br />On GitHub, the HTML representation is unable to render, please try loading this page with nbviewer.org.</b></div><div class=\"sk-container\" hidden><div class=\"sk-item\"><div class=\"sk-estimator sk-toggleable\"><input class=\"sk-toggleable__control sk-hidden--visually\" id=\"sk-estimator-id-1\" type=\"checkbox\" checked><label for=\"sk-estimator-id-1\" class=\"sk-toggleable__label sk-toggleable__label-arrow\">RandomForestClassifier</label><div class=\"sk-toggleable__content\"><pre>RandomForestClassifier(n_estimators=50, random_state=42)</pre></div></div></div></div></div>"
      ],
      "text/plain": [
       "RandomForestClassifier(n_estimators=50, random_state=42)"
      ]
     },
     "execution_count": 61,
     "metadata": {},
     "output_type": "execute_result"
    }
   ],
   "source": [
    "# Choose a machine learning model (e.g., Random Forest)\n",
    "model = RandomForestClassifier(n_estimators=50, random_state=42)\n",
    "\n",
    "# Train the model\n",
    "model.fit(X_train, y_train)"
   ]
  },
  {
   "cell_type": "code",
   "execution_count": 62,
   "id": "1235e461",
   "metadata": {},
   "outputs": [
    {
     "name": "stdout",
     "output_type": "stream",
     "text": [
      "Accuracy: 0.83\n"
     ]
    }
   ],
   "source": [
    "# Make predictions on the test data\n",
    "y_pred = model.predict(X_test)\n",
    "\n",
    "# Evaluate the model's performance\n",
    "accuracy = accuracy_score(y_test, y_pred)\n",
    "print(f'Accuracy: {accuracy:.2f}')"
   ]
  },
  {
   "cell_type": "code",
   "execution_count": 63,
   "id": "e7b9fa20",
   "metadata": {},
   "outputs": [
    {
     "data": {
      "text/html": [
       "<style>#sk-container-id-2 {color: black;background-color: white;}#sk-container-id-2 pre{padding: 0;}#sk-container-id-2 div.sk-toggleable {background-color: white;}#sk-container-id-2 label.sk-toggleable__label {cursor: pointer;display: block;width: 100%;margin-bottom: 0;padding: 0.3em;box-sizing: border-box;text-align: center;}#sk-container-id-2 label.sk-toggleable__label-arrow:before {content: \"▸\";float: left;margin-right: 0.25em;color: #696969;}#sk-container-id-2 label.sk-toggleable__label-arrow:hover:before {color: black;}#sk-container-id-2 div.sk-estimator:hover label.sk-toggleable__label-arrow:before {color: black;}#sk-container-id-2 div.sk-toggleable__content {max-height: 0;max-width: 0;overflow: hidden;text-align: left;background-color: #f0f8ff;}#sk-container-id-2 div.sk-toggleable__content pre {margin: 0.2em;color: black;border-radius: 0.25em;background-color: #f0f8ff;}#sk-container-id-2 input.sk-toggleable__control:checked~div.sk-toggleable__content {max-height: 200px;max-width: 100%;overflow: auto;}#sk-container-id-2 input.sk-toggleable__control:checked~label.sk-toggleable__label-arrow:before {content: \"▾\";}#sk-container-id-2 div.sk-estimator input.sk-toggleable__control:checked~label.sk-toggleable__label {background-color: #d4ebff;}#sk-container-id-2 div.sk-label input.sk-toggleable__control:checked~label.sk-toggleable__label {background-color: #d4ebff;}#sk-container-id-2 input.sk-hidden--visually {border: 0;clip: rect(1px 1px 1px 1px);clip: rect(1px, 1px, 1px, 1px);height: 1px;margin: -1px;overflow: hidden;padding: 0;position: absolute;width: 1px;}#sk-container-id-2 div.sk-estimator {font-family: monospace;background-color: #f0f8ff;border: 1px dotted black;border-radius: 0.25em;box-sizing: border-box;margin-bottom: 0.5em;}#sk-container-id-2 div.sk-estimator:hover {background-color: #d4ebff;}#sk-container-id-2 div.sk-parallel-item::after {content: \"\";width: 100%;border-bottom: 1px solid gray;flex-grow: 1;}#sk-container-id-2 div.sk-label:hover label.sk-toggleable__label {background-color: #d4ebff;}#sk-container-id-2 div.sk-serial::before {content: \"\";position: absolute;border-left: 1px solid gray;box-sizing: border-box;top: 0;bottom: 0;left: 50%;z-index: 0;}#sk-container-id-2 div.sk-serial {display: flex;flex-direction: column;align-items: center;background-color: white;padding-right: 0.2em;padding-left: 0.2em;position: relative;}#sk-container-id-2 div.sk-item {position: relative;z-index: 1;}#sk-container-id-2 div.sk-parallel {display: flex;align-items: stretch;justify-content: center;background-color: white;position: relative;}#sk-container-id-2 div.sk-item::before, #sk-container-id-2 div.sk-parallel-item::before {content: \"\";position: absolute;border-left: 1px solid gray;box-sizing: border-box;top: 0;bottom: 0;left: 50%;z-index: -1;}#sk-container-id-2 div.sk-parallel-item {display: flex;flex-direction: column;z-index: 1;position: relative;background-color: white;}#sk-container-id-2 div.sk-parallel-item:first-child::after {align-self: flex-end;width: 50%;}#sk-container-id-2 div.sk-parallel-item:last-child::after {align-self: flex-start;width: 50%;}#sk-container-id-2 div.sk-parallel-item:only-child::after {width: 0;}#sk-container-id-2 div.sk-dashed-wrapped {border: 1px dashed gray;margin: 0 0.4em 0.5em 0.4em;box-sizing: border-box;padding-bottom: 0.4em;background-color: white;}#sk-container-id-2 div.sk-label label {font-family: monospace;font-weight: bold;display: inline-block;line-height: 1.2em;}#sk-container-id-2 div.sk-label-container {text-align: center;}#sk-container-id-2 div.sk-container {/* jupyter's `normalize.less` sets `[hidden] { display: none; }` but bootstrap.min.css set `[hidden] { display: none !important; }` so we also need the `!important` here to be able to override the default hidden behavior on the sphinx rendered scikit-learn.org. See: https://github.com/scikit-learn/scikit-learn/issues/21755 */display: inline-block !important;position: relative;}#sk-container-id-2 div.sk-text-repr-fallback {display: none;}</style><div id=\"sk-container-id-2\" class=\"sk-top-container\"><div class=\"sk-text-repr-fallback\"><pre>AdaBoostClassifier(random_state=42)</pre><b>In a Jupyter environment, please rerun this cell to show the HTML representation or trust the notebook. <br />On GitHub, the HTML representation is unable to render, please try loading this page with nbviewer.org.</b></div><div class=\"sk-container\" hidden><div class=\"sk-item\"><div class=\"sk-estimator sk-toggleable\"><input class=\"sk-toggleable__control sk-hidden--visually\" id=\"sk-estimator-id-2\" type=\"checkbox\" checked><label for=\"sk-estimator-id-2\" class=\"sk-toggleable__label sk-toggleable__label-arrow\">AdaBoostClassifier</label><div class=\"sk-toggleable__content\"><pre>AdaBoostClassifier(random_state=42)</pre></div></div></div></div></div>"
      ],
      "text/plain": [
       "AdaBoostClassifier(random_state=42)"
      ]
     },
     "execution_count": 63,
     "metadata": {},
     "output_type": "execute_result"
    }
   ],
   "source": [
    "modelA = AdaBoostClassifier(n_estimators=50, random_state=42)\n",
    "\n",
    "modelA.fit(X_train, y_train)"
   ]
  },
  {
   "cell_type": "code",
   "execution_count": 64,
   "id": "494b5e58",
   "metadata": {},
   "outputs": [
    {
     "name": "stdout",
     "output_type": "stream",
     "text": [
      "Accuracy: 0.83\n"
     ]
    }
   ],
   "source": [
    "# Make predictions on the test data\n",
    "y_pred = modelA.predict(X_test)\n",
    "\n",
    "# Evaluate the model's performance\n",
    "accuracyA = accuracy_score(y_test, y_pred)\n",
    "print(f'Accuracy: {accuracy:.2f}')\n"
   ]
  },
  {
   "cell_type": "code",
   "execution_count": 65,
   "id": "2f7b4dfb",
   "metadata": {},
   "outputs": [
    {
     "data": {
      "text/html": [
       "<style>#sk-container-id-3 {color: black;background-color: white;}#sk-container-id-3 pre{padding: 0;}#sk-container-id-3 div.sk-toggleable {background-color: white;}#sk-container-id-3 label.sk-toggleable__label {cursor: pointer;display: block;width: 100%;margin-bottom: 0;padding: 0.3em;box-sizing: border-box;text-align: center;}#sk-container-id-3 label.sk-toggleable__label-arrow:before {content: \"▸\";float: left;margin-right: 0.25em;color: #696969;}#sk-container-id-3 label.sk-toggleable__label-arrow:hover:before {color: black;}#sk-container-id-3 div.sk-estimator:hover label.sk-toggleable__label-arrow:before {color: black;}#sk-container-id-3 div.sk-toggleable__content {max-height: 0;max-width: 0;overflow: hidden;text-align: left;background-color: #f0f8ff;}#sk-container-id-3 div.sk-toggleable__content pre {margin: 0.2em;color: black;border-radius: 0.25em;background-color: #f0f8ff;}#sk-container-id-3 input.sk-toggleable__control:checked~div.sk-toggleable__content {max-height: 200px;max-width: 100%;overflow: auto;}#sk-container-id-3 input.sk-toggleable__control:checked~label.sk-toggleable__label-arrow:before {content: \"▾\";}#sk-container-id-3 div.sk-estimator input.sk-toggleable__control:checked~label.sk-toggleable__label {background-color: #d4ebff;}#sk-container-id-3 div.sk-label input.sk-toggleable__control:checked~label.sk-toggleable__label {background-color: #d4ebff;}#sk-container-id-3 input.sk-hidden--visually {border: 0;clip: rect(1px 1px 1px 1px);clip: rect(1px, 1px, 1px, 1px);height: 1px;margin: -1px;overflow: hidden;padding: 0;position: absolute;width: 1px;}#sk-container-id-3 div.sk-estimator {font-family: monospace;background-color: #f0f8ff;border: 1px dotted black;border-radius: 0.25em;box-sizing: border-box;margin-bottom: 0.5em;}#sk-container-id-3 div.sk-estimator:hover {background-color: #d4ebff;}#sk-container-id-3 div.sk-parallel-item::after {content: \"\";width: 100%;border-bottom: 1px solid gray;flex-grow: 1;}#sk-container-id-3 div.sk-label:hover label.sk-toggleable__label {background-color: #d4ebff;}#sk-container-id-3 div.sk-serial::before {content: \"\";position: absolute;border-left: 1px solid gray;box-sizing: border-box;top: 0;bottom: 0;left: 50%;z-index: 0;}#sk-container-id-3 div.sk-serial {display: flex;flex-direction: column;align-items: center;background-color: white;padding-right: 0.2em;padding-left: 0.2em;position: relative;}#sk-container-id-3 div.sk-item {position: relative;z-index: 1;}#sk-container-id-3 div.sk-parallel {display: flex;align-items: stretch;justify-content: center;background-color: white;position: relative;}#sk-container-id-3 div.sk-item::before, #sk-container-id-3 div.sk-parallel-item::before {content: \"\";position: absolute;border-left: 1px solid gray;box-sizing: border-box;top: 0;bottom: 0;left: 50%;z-index: -1;}#sk-container-id-3 div.sk-parallel-item {display: flex;flex-direction: column;z-index: 1;position: relative;background-color: white;}#sk-container-id-3 div.sk-parallel-item:first-child::after {align-self: flex-end;width: 50%;}#sk-container-id-3 div.sk-parallel-item:last-child::after {align-self: flex-start;width: 50%;}#sk-container-id-3 div.sk-parallel-item:only-child::after {width: 0;}#sk-container-id-3 div.sk-dashed-wrapped {border: 1px dashed gray;margin: 0 0.4em 0.5em 0.4em;box-sizing: border-box;padding-bottom: 0.4em;background-color: white;}#sk-container-id-3 div.sk-label label {font-family: monospace;font-weight: bold;display: inline-block;line-height: 1.2em;}#sk-container-id-3 div.sk-label-container {text-align: center;}#sk-container-id-3 div.sk-container {/* jupyter's `normalize.less` sets `[hidden] { display: none; }` but bootstrap.min.css set `[hidden] { display: none !important; }` so we also need the `!important` here to be able to override the default hidden behavior on the sphinx rendered scikit-learn.org. See: https://github.com/scikit-learn/scikit-learn/issues/21755 */display: inline-block !important;position: relative;}#sk-container-id-3 div.sk-text-repr-fallback {display: none;}</style><div id=\"sk-container-id-3\" class=\"sk-top-container\"><div class=\"sk-text-repr-fallback\"><pre>AdaBoostClassifier(random_state=99)</pre><b>In a Jupyter environment, please rerun this cell to show the HTML representation or trust the notebook. <br />On GitHub, the HTML representation is unable to render, please try loading this page with nbviewer.org.</b></div><div class=\"sk-container\" hidden><div class=\"sk-item\"><div class=\"sk-estimator sk-toggleable\"><input class=\"sk-toggleable__control sk-hidden--visually\" id=\"sk-estimator-id-3\" type=\"checkbox\" checked><label for=\"sk-estimator-id-3\" class=\"sk-toggleable__label sk-toggleable__label-arrow\">AdaBoostClassifier</label><div class=\"sk-toggleable__content\"><pre>AdaBoostClassifier(random_state=99)</pre></div></div></div></div></div>"
      ],
      "text/plain": [
       "AdaBoostClassifier(random_state=99)"
      ]
     },
     "execution_count": 65,
     "metadata": {},
     "output_type": "execute_result"
    }
   ],
   "source": [
    "modelAA = AdaBoostClassifier(random_state=99)\n",
    "\n",
    "modelAA.fit(X_train, y_train)"
   ]
  },
  {
   "cell_type": "code",
   "execution_count": 66,
   "id": "89b13ebc",
   "metadata": {},
   "outputs": [
    {
     "name": "stdout",
     "output_type": "stream",
     "text": [
      "Accuracy: 0.85\n"
     ]
    }
   ],
   "source": [
    "# Make predictions on the test data\n",
    "y_pred = modelAA.predict(X_test)\n",
    "\n",
    "# Evaluate the model's performance\n",
    "accuracy = accuracy_score(y_test, y_pred)\n",
    "print(f'Accuracy: {accuracy:.2f}')"
   ]
  },
  {
   "cell_type": "code",
   "execution_count": 67,
   "id": "32734cb9",
   "metadata": {},
   "outputs": [],
   "source": [
    "from sklearn.model_selection import RandomizedSearchCV \n",
    "\n",
    "params_abc = {'n_estimators': [int(x) for x in np.linspace (start = 1, stop = 50, num = 15)], \n",
    "              'learning_rate': [(0.97 + x/100) for x in range(0, 8)], } "
   ]
  },
  {
   "cell_type": "code",
   "execution_count": 68,
   "id": "d8cc5b07",
   "metadata": {},
   "outputs": [
    {
     "data": {
      "text/plain": [
       "{'n_estimators': [1, 4, 8, 11, 15, 18, 22, 25, 29, 32, 36, 39, 43, 46, 50],\n",
       " 'learning_rate': [0.97, 0.98, 0.99, 1.0, 1.01, 1.02, 1.03, 1.04]}"
      ]
     },
     "execution_count": 68,
     "metadata": {},
     "output_type": "execute_result"
    }
   ],
   "source": [
    "params_abc"
   ]
  },
  {
   "cell_type": "code",
   "execution_count": 69,
   "id": "ae0941d7",
   "metadata": {},
   "outputs": [
    {
     "data": {
      "text/html": [
       "<style>#sk-container-id-4 {color: black;background-color: white;}#sk-container-id-4 pre{padding: 0;}#sk-container-id-4 div.sk-toggleable {background-color: white;}#sk-container-id-4 label.sk-toggleable__label {cursor: pointer;display: block;width: 100%;margin-bottom: 0;padding: 0.3em;box-sizing: border-box;text-align: center;}#sk-container-id-4 label.sk-toggleable__label-arrow:before {content: \"▸\";float: left;margin-right: 0.25em;color: #696969;}#sk-container-id-4 label.sk-toggleable__label-arrow:hover:before {color: black;}#sk-container-id-4 div.sk-estimator:hover label.sk-toggleable__label-arrow:before {color: black;}#sk-container-id-4 div.sk-toggleable__content {max-height: 0;max-width: 0;overflow: hidden;text-align: left;background-color: #f0f8ff;}#sk-container-id-4 div.sk-toggleable__content pre {margin: 0.2em;color: black;border-radius: 0.25em;background-color: #f0f8ff;}#sk-container-id-4 input.sk-toggleable__control:checked~div.sk-toggleable__content {max-height: 200px;max-width: 100%;overflow: auto;}#sk-container-id-4 input.sk-toggleable__control:checked~label.sk-toggleable__label-arrow:before {content: \"▾\";}#sk-container-id-4 div.sk-estimator input.sk-toggleable__control:checked~label.sk-toggleable__label {background-color: #d4ebff;}#sk-container-id-4 div.sk-label input.sk-toggleable__control:checked~label.sk-toggleable__label {background-color: #d4ebff;}#sk-container-id-4 input.sk-hidden--visually {border: 0;clip: rect(1px 1px 1px 1px);clip: rect(1px, 1px, 1px, 1px);height: 1px;margin: -1px;overflow: hidden;padding: 0;position: absolute;width: 1px;}#sk-container-id-4 div.sk-estimator {font-family: monospace;background-color: #f0f8ff;border: 1px dotted black;border-radius: 0.25em;box-sizing: border-box;margin-bottom: 0.5em;}#sk-container-id-4 div.sk-estimator:hover {background-color: #d4ebff;}#sk-container-id-4 div.sk-parallel-item::after {content: \"\";width: 100%;border-bottom: 1px solid gray;flex-grow: 1;}#sk-container-id-4 div.sk-label:hover label.sk-toggleable__label {background-color: #d4ebff;}#sk-container-id-4 div.sk-serial::before {content: \"\";position: absolute;border-left: 1px solid gray;box-sizing: border-box;top: 0;bottom: 0;left: 50%;z-index: 0;}#sk-container-id-4 div.sk-serial {display: flex;flex-direction: column;align-items: center;background-color: white;padding-right: 0.2em;padding-left: 0.2em;position: relative;}#sk-container-id-4 div.sk-item {position: relative;z-index: 1;}#sk-container-id-4 div.sk-parallel {display: flex;align-items: stretch;justify-content: center;background-color: white;position: relative;}#sk-container-id-4 div.sk-item::before, #sk-container-id-4 div.sk-parallel-item::before {content: \"\";position: absolute;border-left: 1px solid gray;box-sizing: border-box;top: 0;bottom: 0;left: 50%;z-index: -1;}#sk-container-id-4 div.sk-parallel-item {display: flex;flex-direction: column;z-index: 1;position: relative;background-color: white;}#sk-container-id-4 div.sk-parallel-item:first-child::after {align-self: flex-end;width: 50%;}#sk-container-id-4 div.sk-parallel-item:last-child::after {align-self: flex-start;width: 50%;}#sk-container-id-4 div.sk-parallel-item:only-child::after {width: 0;}#sk-container-id-4 div.sk-dashed-wrapped {border: 1px dashed gray;margin: 0 0.4em 0.5em 0.4em;box-sizing: border-box;padding-bottom: 0.4em;background-color: white;}#sk-container-id-4 div.sk-label label {font-family: monospace;font-weight: bold;display: inline-block;line-height: 1.2em;}#sk-container-id-4 div.sk-label-container {text-align: center;}#sk-container-id-4 div.sk-container {/* jupyter's `normalize.less` sets `[hidden] { display: none; }` but bootstrap.min.css set `[hidden] { display: none !important; }` so we also need the `!important` here to be able to override the default hidden behavior on the sphinx rendered scikit-learn.org. See: https://github.com/scikit-learn/scikit-learn/issues/21755 */display: inline-block !important;position: relative;}#sk-container-id-4 div.sk-text-repr-fallback {display: none;}</style><div id=\"sk-container-id-4\" class=\"sk-top-container\"><div class=\"sk-text-repr-fallback\"><pre>RandomizedSearchCV(cv=5, estimator=AdaBoostClassifier(random_state=99),\n",
       "                   n_iter=50, n_jobs=-1,\n",
       "                   param_distributions={&#x27;learning_rate&#x27;: [0.97, 0.98, 0.99, 1.0,\n",
       "                                                          1.01, 1.02, 1.03,\n",
       "                                                          1.04],\n",
       "                                        &#x27;n_estimators&#x27;: [1, 4, 8, 11, 15, 18,\n",
       "                                                         22, 25, 29, 32, 36, 39,\n",
       "                                                         43, 46, 50]},\n",
       "                   random_state=49)</pre><b>In a Jupyter environment, please rerun this cell to show the HTML representation or trust the notebook. <br />On GitHub, the HTML representation is unable to render, please try loading this page with nbviewer.org.</b></div><div class=\"sk-container\" hidden><div class=\"sk-item sk-dashed-wrapped\"><div class=\"sk-label-container\"><div class=\"sk-label sk-toggleable\"><input class=\"sk-toggleable__control sk-hidden--visually\" id=\"sk-estimator-id-4\" type=\"checkbox\" ><label for=\"sk-estimator-id-4\" class=\"sk-toggleable__label sk-toggleable__label-arrow\">RandomizedSearchCV</label><div class=\"sk-toggleable__content\"><pre>RandomizedSearchCV(cv=5, estimator=AdaBoostClassifier(random_state=99),\n",
       "                   n_iter=50, n_jobs=-1,\n",
       "                   param_distributions={&#x27;learning_rate&#x27;: [0.97, 0.98, 0.99, 1.0,\n",
       "                                                          1.01, 1.02, 1.03,\n",
       "                                                          1.04],\n",
       "                                        &#x27;n_estimators&#x27;: [1, 4, 8, 11, 15, 18,\n",
       "                                                         22, 25, 29, 32, 36, 39,\n",
       "                                                         43, 46, 50]},\n",
       "                   random_state=49)</pre></div></div></div><div class=\"sk-parallel\"><div class=\"sk-parallel-item\"><div class=\"sk-item\"><div class=\"sk-label-container\"><div class=\"sk-label sk-toggleable\"><input class=\"sk-toggleable__control sk-hidden--visually\" id=\"sk-estimator-id-5\" type=\"checkbox\" ><label for=\"sk-estimator-id-5\" class=\"sk-toggleable__label sk-toggleable__label-arrow\">estimator: AdaBoostClassifier</label><div class=\"sk-toggleable__content\"><pre>AdaBoostClassifier(random_state=99)</pre></div></div></div><div class=\"sk-serial\"><div class=\"sk-item\"><div class=\"sk-estimator sk-toggleable\"><input class=\"sk-toggleable__control sk-hidden--visually\" id=\"sk-estimator-id-6\" type=\"checkbox\" ><label for=\"sk-estimator-id-6\" class=\"sk-toggleable__label sk-toggleable__label-arrow\">AdaBoostClassifier</label><div class=\"sk-toggleable__content\"><pre>AdaBoostClassifier(random_state=99)</pre></div></div></div></div></div></div></div></div></div></div>"
      ],
      "text/plain": [
       "RandomizedSearchCV(cv=5, estimator=AdaBoostClassifier(random_state=99),\n",
       "                   n_iter=50, n_jobs=-1,\n",
       "                   param_distributions={'learning_rate': [0.97, 0.98, 0.99, 1.0,\n",
       "                                                          1.01, 1.02, 1.03,\n",
       "                                                          1.04],\n",
       "                                        'n_estimators': [1, 4, 8, 11, 15, 18,\n",
       "                                                         22, 25, 29, 32, 36, 39,\n",
       "                                                         43, 46, 50]},\n",
       "                   random_state=49)"
      ]
     },
     "execution_count": 69,
     "metadata": {},
     "output_type": "execute_result"
    }
   ],
   "source": [
    "abc_random = RandomizedSearchCV(random_state=49, estimator=modelAA, param_distributions = params_abc,n_iter =50, cv=5,n_jobs=-1)\n",
    "abc_random.fit(X_train,y_train)"
   ]
  },
  {
   "cell_type": "code",
   "execution_count": 70,
   "id": "f1da8683",
   "metadata": {},
   "outputs": [
    {
     "data": {
      "text/plain": [
       "{'n_estimators': 36, 'learning_rate': 0.98}"
      ]
     },
     "execution_count": 70,
     "metadata": {},
     "output_type": "execute_result"
    }
   ],
   "source": [
    "abc_random.best_params_"
   ]
  },
  {
   "cell_type": "code",
   "execution_count": 71,
   "id": "aed478e7",
   "metadata": {},
   "outputs": [
    {
     "name": "stdout",
     "output_type": "stream",
     "text": [
      "Accuracy: 0.86\n"
     ]
    }
   ],
   "source": [
    "modelAA_tuned = AdaBoostClassifier(n_estimators=36, random_state=49, learning_rate=0.98)\n",
    "modelAA_tuned.fit(X_train,y_train)\n",
    "\n",
    "y_pred = modelAA_tuned.predict(X_test)\n",
    "\n",
    "accuracy_tuned = accuracy_score(y_test, y_pred)\n",
    "print(f'Accuracy: {accuracy_tuned:.2f}')"
   ]
  },
  {
   "cell_type": "code",
   "execution_count": 72,
   "id": "1fdf53a1",
   "metadata": {},
   "outputs": [
    {
     "name": "stdout",
     "output_type": "stream",
     "text": [
      "Random Forest Accuracy : 0.85\n",
      "Ada Boost Classifier Accuracy : 0.85\n",
      "Ada Boost Classifier Tuned Accuracy : 0.86\n"
     ]
    }
   ],
   "source": [
    "print(f'Random Forest Accuracy : {accuracy:.2f}')\n",
    "print(f'Ada Boost Classifier Accuracy : {accuracyA:.2f}')\n",
    "print(f'Ada Boost Classifier Tuned Accuracy : {accuracy_tuned:.2f}')"
   ]
  },
  {
   "cell_type": "code",
   "execution_count": null,
   "id": "25722575",
   "metadata": {},
   "outputs": [],
   "source": []
  }
 ],
 "metadata": {
  "kernelspec": {
   "display_name": "Python 3 (ipykernel)",
   "language": "python",
   "name": "python3"
  },
  "language_info": {
   "codemirror_mode": {
    "name": "ipython",
    "version": 3
   },
   "file_extension": ".py",
   "mimetype": "text/x-python",
   "name": "python",
   "nbconvert_exporter": "python",
   "pygments_lexer": "ipython3",
   "version": "3.9.16"
  }
 },
 "nbformat": 4,
 "nbformat_minor": 5
}
