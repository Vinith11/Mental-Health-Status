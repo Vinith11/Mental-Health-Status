{
 "cells": [
  {
   "cell_type": "code",
   "execution_count": 66,
   "id": "ad0ee717",
   "metadata": {},
   "outputs": [],
   "source": [
    "import pandas as pd\n",
    "import numpy as np\n",
    "from sklearn.model_selection import train_test_split\n",
    "from sklearn.preprocessing import StandardScaler\n",
    "from sklearn.ensemble import AdaBoostClassifier\n",
    "from sklearn.metrics import accuracy_score, classification_report\n",
    "from sklearn.model_selection import RandomizedSearchCV "
   ]
  },
  {
   "cell_type": "code",
   "execution_count": 35,
   "id": "bae93825",
   "metadata": {},
   "outputs": [],
   "source": [
    "df= pd.read_csv('survey.csv')"
   ]
  },
  {
   "cell_type": "code",
   "execution_count": 36,
   "id": "127d543c",
   "metadata": {},
   "outputs": [],
   "source": [
    "df.drop(['Country','state','Timestamp','comments'],axis=1,inplace = True)"
   ]
  },
  {
   "cell_type": "code",
   "execution_count": 37,
   "id": "4db5ed8f",
   "metadata": {},
   "outputs": [],
   "source": [
    "df['self_employed'].fillna('No', inplace= True)\n",
    "df['work_interfere'].fillna('N/A', inplace= True)\n",
    "df.drop(df[(df['Age']>60) | (df['Age']<18)] .index, inplace = True)"
   ]
  },
  {
   "cell_type": "code",
   "execution_count": 38,
   "id": "63071684",
   "metadata": {},
   "outputs": [],
   "source": [
    "'''Gender'''\n",
    "\n",
    "df['Gender'].replace([ 'Male', 'male', 'M', 'm', 'Male', 'Cis Male', \n",
    "                        'Man', 'cis male', 'Mail', 'Male-ish', 'Male (CIS)', \n",
    "                        'Cis Man', 'msle', 'Malr', 'Mal', 'maile', 'Make', 'ostensibly male, unsure what that really means ',], 1, inplace=True)\n",
    "\n",
    "df['Gender'].replace([ 'Female', 'female', 'F', 'f', 'Woman', \n",
    "                        'Female', 'femail', 'Cis Female', 'cis-female/femme', \n",
    "                        'Femake', 'Female (cis)', 'woman','Male','Female' ], 0, inplace=True)\n",
    "\n",
    "df[\"Gender\"].replace(['Female (trans)', 'queer/she/they', 'non-binary',\n",
    "                        'fluid', 'queer', 'Androgyne', 'Trans-female', \n",
    "                        'male learning androgynous', 'Agender', \n",
    "                        'A little about you', 'Nah', 'All', 'ostensibly male', \n",
    "                        'unsure what that really means','Genderqueer', 'Enby', 'p', \n",
    "                        'Neuter', 'something kinda male?', 'Guy (-ish) ^_^', 'Trans woman', ], \n",
    "                       2, inplace=True)\n",
    "\n",
    "df[\"Gender\"].replace(['Male ','Female ','male leaning androgynous','ostensibly male, unsure what that really means'], \n",
    "                       2, inplace=True)"
   ]
  },
  {
   "cell_type": "code",
   "execution_count": 39,
   "id": "20bde262",
   "metadata": {},
   "outputs": [],
   "source": [
    "'''self_employed'''\n",
    "df[\"self_employed\"].replace(['No'], 0, inplace=True)\n",
    "df[\"self_employed\"].replace(['Yes'], 1, inplace=True)"
   ]
  },
  {
   "cell_type": "code",
   "execution_count": 40,
   "id": "d4e4f81e",
   "metadata": {},
   "outputs": [],
   "source": [
    "'''family_history'''\n",
    "df[\"family_history\"].replace(['No'], 0, inplace=True)\n",
    "df[\"family_history\"].replace(['Yes'], 1, inplace=True)"
   ]
  },
  {
   "cell_type": "code",
   "execution_count": 41,
   "id": "cb087ae4",
   "metadata": {},
   "outputs": [],
   "source": [
    "'''treatment'''\n",
    "df[\"treatment\"].replace(['No'], 0, inplace=True)\n",
    "df[\"treatment\"].replace(['Yes'], 1, inplace=True)"
   ]
  },
  {
   "cell_type": "code",
   "execution_count": 42,
   "id": "7a8fbe93",
   "metadata": {},
   "outputs": [],
   "source": [
    "'''work_interfere'''\n",
    "df[\"work_interfere\"].replace(['N/A'], 0, inplace=True)\n",
    "df[\"work_interfere\"].replace(['Sometimes'], 1, inplace=True)\n",
    "df[\"work_interfere\"].replace(['Never'], 2, inplace=True)\n",
    "df[\"work_interfere\"].replace(['Rarely'], 3, inplace=True)\n",
    "df[\"work_interfere\"].replace(['Often'], 4, inplace=True)"
   ]
  },
  {
   "cell_type": "code",
   "execution_count": 43,
   "id": "827b067d",
   "metadata": {},
   "outputs": [],
   "source": [
    "'''no_employees'''\n",
    "df[\"no_employees\"].replace(['1-5',], 0, inplace=True)\n",
    "df[\"no_employees\"].replace(['6-25'], 1, inplace=True)\n",
    "df[\"no_employees\"].replace(['26-100'], 2, inplace=True)\n",
    "df[\"no_employees\"].replace(['100-500'], 3, inplace=True)\n",
    "df[\"no_employees\"].replace(['500-1000'], 4, inplace=True)\n",
    "df[\"no_employees\"].replace(['More than 1000'], 5, inplace=True)"
   ]
  },
  {
   "cell_type": "code",
   "execution_count": 44,
   "id": "357e3c4f",
   "metadata": {},
   "outputs": [],
   "source": [
    "'''tech_company'''\n",
    "df[\"tech_company\"].replace(['No'], 0, inplace=True)\n",
    "df[\"tech_company\"].replace(['Yes'], 1, inplace=True)"
   ]
  },
  {
   "cell_type": "code",
   "execution_count": 45,
   "id": "5bf7c8d0",
   "metadata": {},
   "outputs": [],
   "source": [
    "'''remote_work'''\n",
    "df[\"remote_work\"].replace(['No'], 0, inplace=True)\n",
    "df[\"remote_work\"].replace(['Yes'], 1, inplace=True)"
   ]
  },
  {
   "cell_type": "code",
   "execution_count": 46,
   "id": "d47879c9",
   "metadata": {},
   "outputs": [],
   "source": [
    "'''benefits'''\n",
    "df[\"benefits\"].replace(['No'], 0, inplace=True)\n",
    "df[\"benefits\"].replace(['Yes'], 1, inplace=True)\n",
    "df[\"benefits\"].replace(['Don\\'t know'], 7, inplace=True)"
   ]
  },
  {
   "cell_type": "code",
   "execution_count": 47,
   "id": "c66b83c0",
   "metadata": {},
   "outputs": [],
   "source": [
    "'''care_options'''\n",
    "df[\"care_options\"].replace(['No'], 0, inplace=True)\n",
    "df[\"care_options\"].replace(['Yes'], 1, inplace=True)\n",
    "df[\"care_options\"].replace(['Not sure'], 6, inplace=True)              "
   ]
  },
  {
   "cell_type": "code",
   "execution_count": 48,
   "id": "5aa70f6b",
   "metadata": {},
   "outputs": [],
   "source": [
    "'''wellness_program'''\n",
    "df[\"wellness_program\"].replace(['No'], 0, inplace=True)\n",
    "df[\"wellness_program\"].replace(['Yes'], 1, inplace=True)\n",
    "df[\"wellness_program\"].replace(['Don\\'t know'], 7, inplace=True)"
   ]
  },
  {
   "cell_type": "code",
   "execution_count": 49,
   "id": "0ccd28cf",
   "metadata": {},
   "outputs": [],
   "source": [
    "'''seek_help'''\n",
    "df[\"seek_help\"].replace(['No'], 0, inplace=True)\n",
    "df[\"seek_help\"].replace(['Yes'], 1, inplace=True)\n",
    "df[\"seek_help\"].replace(['Don\\'t know'], 7, inplace=True)"
   ]
  },
  {
   "cell_type": "code",
   "execution_count": 50,
   "id": "7211f5e5",
   "metadata": {},
   "outputs": [],
   "source": [
    "'''anonymity'''\n",
    "df[\"anonymity\"].replace(['No'], 0, inplace=True)\n",
    "df[\"anonymity\"].replace(['Yes'], 1, inplace=True)\n",
    "df[\"anonymity\"].replace(['Don\\'t know'], 7, inplace=True)                    "
   ]
  },
  {
   "cell_type": "code",
   "execution_count": 51,
   "id": "42275422",
   "metadata": {},
   "outputs": [],
   "source": [
    "'''leave'''\n",
    "df[\"leave\"].replace(['Don\\'t know',], 7, inplace=True)\n",
    "df[\"leave\"].replace(['Somewhat easy'], 1, inplace=True)\n",
    "df[\"leave\"].replace(['Very easy'], 2, inplace=True)\n",
    "df[\"leave\"].replace(['Somewhat difficult'], 3, inplace=True)\n",
    "df[\"leave\"].replace(['Very difficult'], 4, inplace=True)"
   ]
  },
  {
   "cell_type": "code",
   "execution_count": 52,
   "id": "1829117d",
   "metadata": {},
   "outputs": [],
   "source": [
    "'''mental_health_consequence'''\n",
    "df[\"mental_health_consequence\"].replace(['No'], 0, inplace=True)\n",
    "df[\"mental_health_consequence\"].replace(['Yes'], 1, inplace=True)\n",
    "df[\"mental_health_consequence\"].replace(['Maybe'], 5, inplace=True)   "
   ]
  },
  {
   "cell_type": "code",
   "execution_count": 53,
   "id": "a1fec8f8",
   "metadata": {},
   "outputs": [],
   "source": [
    "'''phys_health_consequence'''\n",
    "df[\"phys_health_consequence\"].replace(['No'], 0, inplace=True)\n",
    "df[\"phys_health_consequence\"].replace(['Yes'], 1, inplace=True)\n",
    "df[\"phys_health_consequence\"].replace(['Maybe'], 5, inplace=True)   "
   ]
  },
  {
   "cell_type": "code",
   "execution_count": 54,
   "id": "dd78561d",
   "metadata": {},
   "outputs": [],
   "source": [
    "'''coworkers'''\n",
    "df[\"coworkers\"].replace(['No'], 0, inplace=True)\n",
    "df[\"coworkers\"].replace(['Yes'], 1, inplace=True)\n",
    "df[\"coworkers\"].replace(['Some of them'], 8, inplace=True)                       "
   ]
  },
  {
   "cell_type": "code",
   "execution_count": 55,
   "id": "e785e964",
   "metadata": {},
   "outputs": [],
   "source": [
    "'''supervisor'''\n",
    "df[\"supervisor\"].replace(['No'], 0, inplace=True)\n",
    "df[\"supervisor\"].replace(['Yes'], 1, inplace=True)\n",
    "df[\"supervisor\"].replace(['Some of them'], 8, inplace=True)                       "
   ]
  },
  {
   "cell_type": "code",
   "execution_count": 56,
   "id": "0eef4bfa",
   "metadata": {},
   "outputs": [],
   "source": [
    "'''mental_health_interview'''\n",
    "df[\"mental_health_interview\"].replace(['No'], 0, inplace=True)\n",
    "df[\"mental_health_interview\"].replace(['Yes'], 1, inplace=True)\n",
    "df[\"mental_health_interview\"].replace(['Maybe'], 5, inplace=True)   "
   ]
  },
  {
   "cell_type": "code",
   "execution_count": 57,
   "id": "df8bcf62",
   "metadata": {},
   "outputs": [],
   "source": [
    "'''phys_health_interview'''\n",
    "df[\"phys_health_interview\"].replace(['No'], 0, inplace=True)\n",
    "df[\"phys_health_interview\"].replace(['Yes'], 1, inplace=True)\n",
    "df[\"phys_health_interview\"].replace(['Maybe'], 5, inplace=True)   "
   ]
  },
  {
   "cell_type": "code",
   "execution_count": 58,
   "id": "e4c61d05",
   "metadata": {},
   "outputs": [],
   "source": [
    "'''mental_vs_physical'''\n",
    "df[\"mental_vs_physical\"].replace(['No'], 0, inplace=True)\n",
    "df[\"mental_vs_physical\"].replace(['Yes'], 1, inplace=True)\n",
    "df[\"mental_vs_physical\"].replace(['Don\\'t know'], 7, inplace=True)                    "
   ]
  },
  {
   "cell_type": "code",
   "execution_count": 59,
   "id": "03522e8e",
   "metadata": {},
   "outputs": [],
   "source": [
    "'''obs_consequence'''\n",
    "df[\"obs_consequence\"].replace(['No'], 0, inplace=True)\n",
    "df[\"obs_consequence\"].replace(['Yes'], 1, inplace=True)               "
   ]
  },
  {
   "cell_type": "code",
   "execution_count": 60,
   "id": "ff31f624",
   "metadata": {},
   "outputs": [
    {
     "data": {
      "text/html": [
       "<div>\n",
       "<style scoped>\n",
       "    .dataframe tbody tr th:only-of-type {\n",
       "        vertical-align: middle;\n",
       "    }\n",
       "\n",
       "    .dataframe tbody tr th {\n",
       "        vertical-align: top;\n",
       "    }\n",
       "\n",
       "    .dataframe thead th {\n",
       "        text-align: right;\n",
       "    }\n",
       "</style>\n",
       "<table border=\"1\" class=\"dataframe\">\n",
       "  <thead>\n",
       "    <tr style=\"text-align: right;\">\n",
       "      <th></th>\n",
       "      <th>Age</th>\n",
       "      <th>Gender</th>\n",
       "      <th>self_employed</th>\n",
       "      <th>family_history</th>\n",
       "      <th>treatment</th>\n",
       "      <th>work_interfere</th>\n",
       "      <th>no_employees</th>\n",
       "      <th>remote_work</th>\n",
       "      <th>tech_company</th>\n",
       "      <th>benefits</th>\n",
       "      <th>...</th>\n",
       "      <th>anonymity</th>\n",
       "      <th>leave</th>\n",
       "      <th>mental_health_consequence</th>\n",
       "      <th>phys_health_consequence</th>\n",
       "      <th>coworkers</th>\n",
       "      <th>supervisor</th>\n",
       "      <th>mental_health_interview</th>\n",
       "      <th>phys_health_interview</th>\n",
       "      <th>mental_vs_physical</th>\n",
       "      <th>obs_consequence</th>\n",
       "    </tr>\n",
       "  </thead>\n",
       "  <tbody>\n",
       "    <tr>\n",
       "      <th>0</th>\n",
       "      <td>37</td>\n",
       "      <td>0</td>\n",
       "      <td>0</td>\n",
       "      <td>0</td>\n",
       "      <td>1</td>\n",
       "      <td>4</td>\n",
       "      <td>1</td>\n",
       "      <td>0</td>\n",
       "      <td>1</td>\n",
       "      <td>1</td>\n",
       "      <td>...</td>\n",
       "      <td>1</td>\n",
       "      <td>1</td>\n",
       "      <td>0</td>\n",
       "      <td>0</td>\n",
       "      <td>8</td>\n",
       "      <td>1</td>\n",
       "      <td>0</td>\n",
       "      <td>5</td>\n",
       "      <td>1</td>\n",
       "      <td>0</td>\n",
       "    </tr>\n",
       "    <tr>\n",
       "      <th>1</th>\n",
       "      <td>44</td>\n",
       "      <td>1</td>\n",
       "      <td>0</td>\n",
       "      <td>0</td>\n",
       "      <td>0</td>\n",
       "      <td>3</td>\n",
       "      <td>5</td>\n",
       "      <td>0</td>\n",
       "      <td>0</td>\n",
       "      <td>7</td>\n",
       "      <td>...</td>\n",
       "      <td>7</td>\n",
       "      <td>7</td>\n",
       "      <td>5</td>\n",
       "      <td>0</td>\n",
       "      <td>0</td>\n",
       "      <td>0</td>\n",
       "      <td>0</td>\n",
       "      <td>0</td>\n",
       "      <td>7</td>\n",
       "      <td>0</td>\n",
       "    </tr>\n",
       "    <tr>\n",
       "      <th>2</th>\n",
       "      <td>32</td>\n",
       "      <td>1</td>\n",
       "      <td>0</td>\n",
       "      <td>0</td>\n",
       "      <td>0</td>\n",
       "      <td>3</td>\n",
       "      <td>1</td>\n",
       "      <td>0</td>\n",
       "      <td>1</td>\n",
       "      <td>0</td>\n",
       "      <td>...</td>\n",
       "      <td>7</td>\n",
       "      <td>3</td>\n",
       "      <td>0</td>\n",
       "      <td>0</td>\n",
       "      <td>1</td>\n",
       "      <td>1</td>\n",
       "      <td>1</td>\n",
       "      <td>1</td>\n",
       "      <td>0</td>\n",
       "      <td>0</td>\n",
       "    </tr>\n",
       "    <tr>\n",
       "      <th>3</th>\n",
       "      <td>31</td>\n",
       "      <td>1</td>\n",
       "      <td>0</td>\n",
       "      <td>1</td>\n",
       "      <td>1</td>\n",
       "      <td>4</td>\n",
       "      <td>2</td>\n",
       "      <td>0</td>\n",
       "      <td>1</td>\n",
       "      <td>0</td>\n",
       "      <td>...</td>\n",
       "      <td>0</td>\n",
       "      <td>3</td>\n",
       "      <td>1</td>\n",
       "      <td>1</td>\n",
       "      <td>8</td>\n",
       "      <td>0</td>\n",
       "      <td>5</td>\n",
       "      <td>5</td>\n",
       "      <td>0</td>\n",
       "      <td>1</td>\n",
       "    </tr>\n",
       "    <tr>\n",
       "      <th>4</th>\n",
       "      <td>31</td>\n",
       "      <td>1</td>\n",
       "      <td>0</td>\n",
       "      <td>0</td>\n",
       "      <td>0</td>\n",
       "      <td>2</td>\n",
       "      <td>3</td>\n",
       "      <td>1</td>\n",
       "      <td>1</td>\n",
       "      <td>1</td>\n",
       "      <td>...</td>\n",
       "      <td>7</td>\n",
       "      <td>7</td>\n",
       "      <td>0</td>\n",
       "      <td>0</td>\n",
       "      <td>8</td>\n",
       "      <td>1</td>\n",
       "      <td>1</td>\n",
       "      <td>1</td>\n",
       "      <td>7</td>\n",
       "      <td>0</td>\n",
       "    </tr>\n",
       "  </tbody>\n",
       "</table>\n",
       "<p>5 rows × 23 columns</p>\n",
       "</div>"
      ],
      "text/plain": [
       "   Age  Gender  self_employed  family_history  treatment  work_interfere  \\\n",
       "0   37       0              0               0          1               4   \n",
       "1   44       1              0               0          0               3   \n",
       "2   32       1              0               0          0               3   \n",
       "3   31       1              0               1          1               4   \n",
       "4   31       1              0               0          0               2   \n",
       "\n",
       "   no_employees  remote_work  tech_company  benefits  ...  anonymity  leave  \\\n",
       "0             1            0             1         1  ...          1      1   \n",
       "1             5            0             0         7  ...          7      7   \n",
       "2             1            0             1         0  ...          7      3   \n",
       "3             2            0             1         0  ...          0      3   \n",
       "4             3            1             1         1  ...          7      7   \n",
       "\n",
       "   mental_health_consequence  phys_health_consequence  coworkers  supervisor  \\\n",
       "0                          0                        0          8           1   \n",
       "1                          5                        0          0           0   \n",
       "2                          0                        0          1           1   \n",
       "3                          1                        1          8           0   \n",
       "4                          0                        0          8           1   \n",
       "\n",
       "   mental_health_interview  phys_health_interview  mental_vs_physical  \\\n",
       "0                        0                      5                   1   \n",
       "1                        0                      0                   7   \n",
       "2                        1                      1                   0   \n",
       "3                        5                      5                   0   \n",
       "4                        1                      1                   7   \n",
       "\n",
       "   obs_consequence  \n",
       "0                0  \n",
       "1                0  \n",
       "2                0  \n",
       "3                1  \n",
       "4                0  \n",
       "\n",
       "[5 rows x 23 columns]"
      ]
     },
     "execution_count": 60,
     "metadata": {},
     "output_type": "execute_result"
    }
   ],
   "source": [
    "df.head()"
   ]
  },
  {
   "cell_type": "code",
   "execution_count": 61,
   "id": "139ea108",
   "metadata": {},
   "outputs": [
    {
     "data": {
      "text/plain": [
       "(1247, 23)"
      ]
     },
     "execution_count": 61,
     "metadata": {},
     "output_type": "execute_result"
    }
   ],
   "source": [
    "df.shape"
   ]
  },
  {
   "cell_type": "code",
   "execution_count": 62,
   "id": "ed7ec8c1",
   "metadata": {},
   "outputs": [
    {
     "name": "stdout",
     "output_type": "stream",
     "text": [
      "<class 'pandas.core.frame.DataFrame'>\n",
      "Int64Index: 1247 entries, 0 to 1258\n",
      "Data columns (total 23 columns):\n",
      " #   Column                     Non-Null Count  Dtype\n",
      "---  ------                     --------------  -----\n",
      " 0   Age                        1247 non-null   int64\n",
      " 1   Gender                     1247 non-null   int64\n",
      " 2   self_employed              1247 non-null   int64\n",
      " 3   family_history             1247 non-null   int64\n",
      " 4   treatment                  1247 non-null   int64\n",
      " 5   work_interfere             1247 non-null   int64\n",
      " 6   no_employees               1247 non-null   int64\n",
      " 7   remote_work                1247 non-null   int64\n",
      " 8   tech_company               1247 non-null   int64\n",
      " 9   benefits                   1247 non-null   int64\n",
      " 10  care_options               1247 non-null   int64\n",
      " 11  wellness_program           1247 non-null   int64\n",
      " 12  seek_help                  1247 non-null   int64\n",
      " 13  anonymity                  1247 non-null   int64\n",
      " 14  leave                      1247 non-null   int64\n",
      " 15  mental_health_consequence  1247 non-null   int64\n",
      " 16  phys_health_consequence    1247 non-null   int64\n",
      " 17  coworkers                  1247 non-null   int64\n",
      " 18  supervisor                 1247 non-null   int64\n",
      " 19  mental_health_interview    1247 non-null   int64\n",
      " 20  phys_health_interview      1247 non-null   int64\n",
      " 21  mental_vs_physical         1247 non-null   int64\n",
      " 22  obs_consequence            1247 non-null   int64\n",
      "dtypes: int64(23)\n",
      "memory usage: 233.8 KB\n"
     ]
    }
   ],
   "source": [
    "df.info()"
   ]
  },
  {
   "cell_type": "code",
   "execution_count": 63,
   "id": "a2f2949f",
   "metadata": {},
   "outputs": [],
   "source": [
    "X=df.drop('treatment',axis=1)\n",
    "y=df['treatment']"
   ]
  },
  {
   "cell_type": "code",
   "execution_count": 161,
   "id": "3b0cf35b",
   "metadata": {},
   "outputs": [],
   "source": [
    "X_train, X_test, y_train, y_test = train_test_split(X, y, test_size=0.3, random_state=101)"
   ]
  },
  {
   "cell_type": "code",
   "execution_count": 162,
   "id": "1c5d4440",
   "metadata": {},
   "outputs": [],
   "source": [
    "scaler = StandardScaler()\n",
    "X_train = scaler.fit_transform(X_train)\n",
    "X_test = scaler.transform(X_test)"
   ]
  },
  {
   "cell_type": "code",
   "execution_count": 163,
   "id": "0b1b467f",
   "metadata": {},
   "outputs": [
    {
     "data": {
      "text/html": [
       "<style>#sk-container-id-16 {color: black;background-color: white;}#sk-container-id-16 pre{padding: 0;}#sk-container-id-16 div.sk-toggleable {background-color: white;}#sk-container-id-16 label.sk-toggleable__label {cursor: pointer;display: block;width: 100%;margin-bottom: 0;padding: 0.3em;box-sizing: border-box;text-align: center;}#sk-container-id-16 label.sk-toggleable__label-arrow:before {content: \"▸\";float: left;margin-right: 0.25em;color: #696969;}#sk-container-id-16 label.sk-toggleable__label-arrow:hover:before {color: black;}#sk-container-id-16 div.sk-estimator:hover label.sk-toggleable__label-arrow:before {color: black;}#sk-container-id-16 div.sk-toggleable__content {max-height: 0;max-width: 0;overflow: hidden;text-align: left;background-color: #f0f8ff;}#sk-container-id-16 div.sk-toggleable__content pre {margin: 0.2em;color: black;border-radius: 0.25em;background-color: #f0f8ff;}#sk-container-id-16 input.sk-toggleable__control:checked~div.sk-toggleable__content {max-height: 200px;max-width: 100%;overflow: auto;}#sk-container-id-16 input.sk-toggleable__control:checked~label.sk-toggleable__label-arrow:before {content: \"▾\";}#sk-container-id-16 div.sk-estimator input.sk-toggleable__control:checked~label.sk-toggleable__label {background-color: #d4ebff;}#sk-container-id-16 div.sk-label input.sk-toggleable__control:checked~label.sk-toggleable__label {background-color: #d4ebff;}#sk-container-id-16 input.sk-hidden--visually {border: 0;clip: rect(1px 1px 1px 1px);clip: rect(1px, 1px, 1px, 1px);height: 1px;margin: -1px;overflow: hidden;padding: 0;position: absolute;width: 1px;}#sk-container-id-16 div.sk-estimator {font-family: monospace;background-color: #f0f8ff;border: 1px dotted black;border-radius: 0.25em;box-sizing: border-box;margin-bottom: 0.5em;}#sk-container-id-16 div.sk-estimator:hover {background-color: #d4ebff;}#sk-container-id-16 div.sk-parallel-item::after {content: \"\";width: 100%;border-bottom: 1px solid gray;flex-grow: 1;}#sk-container-id-16 div.sk-label:hover label.sk-toggleable__label {background-color: #d4ebff;}#sk-container-id-16 div.sk-serial::before {content: \"\";position: absolute;border-left: 1px solid gray;box-sizing: border-box;top: 0;bottom: 0;left: 50%;z-index: 0;}#sk-container-id-16 div.sk-serial {display: flex;flex-direction: column;align-items: center;background-color: white;padding-right: 0.2em;padding-left: 0.2em;position: relative;}#sk-container-id-16 div.sk-item {position: relative;z-index: 1;}#sk-container-id-16 div.sk-parallel {display: flex;align-items: stretch;justify-content: center;background-color: white;position: relative;}#sk-container-id-16 div.sk-item::before, #sk-container-id-16 div.sk-parallel-item::before {content: \"\";position: absolute;border-left: 1px solid gray;box-sizing: border-box;top: 0;bottom: 0;left: 50%;z-index: -1;}#sk-container-id-16 div.sk-parallel-item {display: flex;flex-direction: column;z-index: 1;position: relative;background-color: white;}#sk-container-id-16 div.sk-parallel-item:first-child::after {align-self: flex-end;width: 50%;}#sk-container-id-16 div.sk-parallel-item:last-child::after {align-self: flex-start;width: 50%;}#sk-container-id-16 div.sk-parallel-item:only-child::after {width: 0;}#sk-container-id-16 div.sk-dashed-wrapped {border: 1px dashed gray;margin: 0 0.4em 0.5em 0.4em;box-sizing: border-box;padding-bottom: 0.4em;background-color: white;}#sk-container-id-16 div.sk-label label {font-family: monospace;font-weight: bold;display: inline-block;line-height: 1.2em;}#sk-container-id-16 div.sk-label-container {text-align: center;}#sk-container-id-16 div.sk-container {/* jupyter's `normalize.less` sets `[hidden] { display: none; }` but bootstrap.min.css set `[hidden] { display: none !important; }` so we also need the `!important` here to be able to override the default hidden behavior on the sphinx rendered scikit-learn.org. See: https://github.com/scikit-learn/scikit-learn/issues/21755 */display: inline-block !important;position: relative;}#sk-container-id-16 div.sk-text-repr-fallback {display: none;}</style><div id=\"sk-container-id-16\" class=\"sk-top-container\"><div class=\"sk-text-repr-fallback\"><pre>AdaBoostClassifier(random_state=101)</pre><b>In a Jupyter environment, please rerun this cell to show the HTML representation or trust the notebook. <br />On GitHub, the HTML representation is unable to render, please try loading this page with nbviewer.org.</b></div><div class=\"sk-container\" hidden><div class=\"sk-item\"><div class=\"sk-estimator sk-toggleable\"><input class=\"sk-toggleable__control sk-hidden--visually\" id=\"sk-estimator-id-26\" type=\"checkbox\" checked><label for=\"sk-estimator-id-26\" class=\"sk-toggleable__label sk-toggleable__label-arrow\">AdaBoostClassifier</label><div class=\"sk-toggleable__content\"><pre>AdaBoostClassifier(random_state=101)</pre></div></div></div></div></div>"
      ],
      "text/plain": [
       "AdaBoostClassifier(random_state=101)"
      ]
     },
     "execution_count": 163,
     "metadata": {},
     "output_type": "execute_result"
    }
   ],
   "source": [
    "modelA = AdaBoostClassifier(random_state=101)\n",
    "\n",
    "modelA.fit(X_train, y_train)"
   ]
  },
  {
   "cell_type": "code",
   "execution_count": 164,
   "id": "a9293795",
   "metadata": {},
   "outputs": [
    {
     "name": "stdout",
     "output_type": "stream",
     "text": [
      "Accuracy: 0.84\n"
     ]
    }
   ],
   "source": [
    "y_pred = modelA.predict(X_test)\n",
    "\n",
    "accuracyA = accuracy_score(y_test, y_pred)\n",
    "print(f'Accuracy: {accuracyA:.2f}')"
   ]
  },
  {
   "cell_type": "code",
   "execution_count": 165,
   "id": "37655558",
   "metadata": {},
   "outputs": [],
   "source": [
    "params_test = {'n_estimators': [int(x) for x in np.linspace (start = 1, stop = 50, num = 15)], \n",
    "              'learning_rate': [(0.97 + x/100) for x in range(0, 8)], } "
   ]
  },
  {
   "cell_type": "code",
   "execution_count": 166,
   "id": "ea38bdaf",
   "metadata": {},
   "outputs": [
    {
     "data": {
      "text/plain": [
       "{'n_estimators': [1, 4, 8, 11, 15, 18, 22, 25, 29, 32, 36, 39, 43, 46, 50],\n",
       " 'learning_rate': [0.97, 0.98, 0.99, 1.0, 1.01, 1.02, 1.03, 1.04]}"
      ]
     },
     "execution_count": 166,
     "metadata": {},
     "output_type": "execute_result"
    }
   ],
   "source": [
    "params_test"
   ]
  },
  {
   "cell_type": "code",
   "execution_count": 167,
   "id": "9ee00872",
   "metadata": {},
   "outputs": [
    {
     "data": {
      "text/html": [
       "<style>#sk-container-id-17 {color: black;background-color: white;}#sk-container-id-17 pre{padding: 0;}#sk-container-id-17 div.sk-toggleable {background-color: white;}#sk-container-id-17 label.sk-toggleable__label {cursor: pointer;display: block;width: 100%;margin-bottom: 0;padding: 0.3em;box-sizing: border-box;text-align: center;}#sk-container-id-17 label.sk-toggleable__label-arrow:before {content: \"▸\";float: left;margin-right: 0.25em;color: #696969;}#sk-container-id-17 label.sk-toggleable__label-arrow:hover:before {color: black;}#sk-container-id-17 div.sk-estimator:hover label.sk-toggleable__label-arrow:before {color: black;}#sk-container-id-17 div.sk-toggleable__content {max-height: 0;max-width: 0;overflow: hidden;text-align: left;background-color: #f0f8ff;}#sk-container-id-17 div.sk-toggleable__content pre {margin: 0.2em;color: black;border-radius: 0.25em;background-color: #f0f8ff;}#sk-container-id-17 input.sk-toggleable__control:checked~div.sk-toggleable__content {max-height: 200px;max-width: 100%;overflow: auto;}#sk-container-id-17 input.sk-toggleable__control:checked~label.sk-toggleable__label-arrow:before {content: \"▾\";}#sk-container-id-17 div.sk-estimator input.sk-toggleable__control:checked~label.sk-toggleable__label {background-color: #d4ebff;}#sk-container-id-17 div.sk-label input.sk-toggleable__control:checked~label.sk-toggleable__label {background-color: #d4ebff;}#sk-container-id-17 input.sk-hidden--visually {border: 0;clip: rect(1px 1px 1px 1px);clip: rect(1px, 1px, 1px, 1px);height: 1px;margin: -1px;overflow: hidden;padding: 0;position: absolute;width: 1px;}#sk-container-id-17 div.sk-estimator {font-family: monospace;background-color: #f0f8ff;border: 1px dotted black;border-radius: 0.25em;box-sizing: border-box;margin-bottom: 0.5em;}#sk-container-id-17 div.sk-estimator:hover {background-color: #d4ebff;}#sk-container-id-17 div.sk-parallel-item::after {content: \"\";width: 100%;border-bottom: 1px solid gray;flex-grow: 1;}#sk-container-id-17 div.sk-label:hover label.sk-toggleable__label {background-color: #d4ebff;}#sk-container-id-17 div.sk-serial::before {content: \"\";position: absolute;border-left: 1px solid gray;box-sizing: border-box;top: 0;bottom: 0;left: 50%;z-index: 0;}#sk-container-id-17 div.sk-serial {display: flex;flex-direction: column;align-items: center;background-color: white;padding-right: 0.2em;padding-left: 0.2em;position: relative;}#sk-container-id-17 div.sk-item {position: relative;z-index: 1;}#sk-container-id-17 div.sk-parallel {display: flex;align-items: stretch;justify-content: center;background-color: white;position: relative;}#sk-container-id-17 div.sk-item::before, #sk-container-id-17 div.sk-parallel-item::before {content: \"\";position: absolute;border-left: 1px solid gray;box-sizing: border-box;top: 0;bottom: 0;left: 50%;z-index: -1;}#sk-container-id-17 div.sk-parallel-item {display: flex;flex-direction: column;z-index: 1;position: relative;background-color: white;}#sk-container-id-17 div.sk-parallel-item:first-child::after {align-self: flex-end;width: 50%;}#sk-container-id-17 div.sk-parallel-item:last-child::after {align-self: flex-start;width: 50%;}#sk-container-id-17 div.sk-parallel-item:only-child::after {width: 0;}#sk-container-id-17 div.sk-dashed-wrapped {border: 1px dashed gray;margin: 0 0.4em 0.5em 0.4em;box-sizing: border-box;padding-bottom: 0.4em;background-color: white;}#sk-container-id-17 div.sk-label label {font-family: monospace;font-weight: bold;display: inline-block;line-height: 1.2em;}#sk-container-id-17 div.sk-label-container {text-align: center;}#sk-container-id-17 div.sk-container {/* jupyter's `normalize.less` sets `[hidden] { display: none; }` but bootstrap.min.css set `[hidden] { display: none !important; }` so we also need the `!important` here to be able to override the default hidden behavior on the sphinx rendered scikit-learn.org. See: https://github.com/scikit-learn/scikit-learn/issues/21755 */display: inline-block !important;position: relative;}#sk-container-id-17 div.sk-text-repr-fallback {display: none;}</style><div id=\"sk-container-id-17\" class=\"sk-top-container\"><div class=\"sk-text-repr-fallback\"><pre>RandomizedSearchCV(cv=5, estimator=AdaBoostClassifier(random_state=101),\n",
       "                   n_iter=50, n_jobs=-1,\n",
       "                   param_distributions={&#x27;learning_rate&#x27;: [0.97, 0.98, 0.99, 1.0,\n",
       "                                                          1.01, 1.02, 1.03,\n",
       "                                                          1.04],\n",
       "                                        &#x27;n_estimators&#x27;: [1, 4, 8, 11, 15, 18,\n",
       "                                                         22, 25, 29, 32, 36, 39,\n",
       "                                                         43, 46, 50]},\n",
       "                   random_state=49)</pre><b>In a Jupyter environment, please rerun this cell to show the HTML representation or trust the notebook. <br />On GitHub, the HTML representation is unable to render, please try loading this page with nbviewer.org.</b></div><div class=\"sk-container\" hidden><div class=\"sk-item sk-dashed-wrapped\"><div class=\"sk-label-container\"><div class=\"sk-label sk-toggleable\"><input class=\"sk-toggleable__control sk-hidden--visually\" id=\"sk-estimator-id-27\" type=\"checkbox\" ><label for=\"sk-estimator-id-27\" class=\"sk-toggleable__label sk-toggleable__label-arrow\">RandomizedSearchCV</label><div class=\"sk-toggleable__content\"><pre>RandomizedSearchCV(cv=5, estimator=AdaBoostClassifier(random_state=101),\n",
       "                   n_iter=50, n_jobs=-1,\n",
       "                   param_distributions={&#x27;learning_rate&#x27;: [0.97, 0.98, 0.99, 1.0,\n",
       "                                                          1.01, 1.02, 1.03,\n",
       "                                                          1.04],\n",
       "                                        &#x27;n_estimators&#x27;: [1, 4, 8, 11, 15, 18,\n",
       "                                                         22, 25, 29, 32, 36, 39,\n",
       "                                                         43, 46, 50]},\n",
       "                   random_state=49)</pre></div></div></div><div class=\"sk-parallel\"><div class=\"sk-parallel-item\"><div class=\"sk-item\"><div class=\"sk-label-container\"><div class=\"sk-label sk-toggleable\"><input class=\"sk-toggleable__control sk-hidden--visually\" id=\"sk-estimator-id-28\" type=\"checkbox\" ><label for=\"sk-estimator-id-28\" class=\"sk-toggleable__label sk-toggleable__label-arrow\">estimator: AdaBoostClassifier</label><div class=\"sk-toggleable__content\"><pre>AdaBoostClassifier(random_state=101)</pre></div></div></div><div class=\"sk-serial\"><div class=\"sk-item\"><div class=\"sk-estimator sk-toggleable\"><input class=\"sk-toggleable__control sk-hidden--visually\" id=\"sk-estimator-id-29\" type=\"checkbox\" ><label for=\"sk-estimator-id-29\" class=\"sk-toggleable__label sk-toggleable__label-arrow\">AdaBoostClassifier</label><div class=\"sk-toggleable__content\"><pre>AdaBoostClassifier(random_state=101)</pre></div></div></div></div></div></div></div></div></div></div>"
      ],
      "text/plain": [
       "RandomizedSearchCV(cv=5, estimator=AdaBoostClassifier(random_state=101),\n",
       "                   n_iter=50, n_jobs=-1,\n",
       "                   param_distributions={'learning_rate': [0.97, 0.98, 0.99, 1.0,\n",
       "                                                          1.01, 1.02, 1.03,\n",
       "                                                          1.04],\n",
       "                                        'n_estimators': [1, 4, 8, 11, 15, 18,\n",
       "                                                         22, 25, 29, 32, 36, 39,\n",
       "                                                         43, 46, 50]},\n",
       "                   random_state=49)"
      ]
     },
     "execution_count": 167,
     "metadata": {},
     "output_type": "execute_result"
    }
   ],
   "source": [
    "test_random = RandomizedSearchCV(random_state=49, estimator=modelA, param_distributions = params_test,n_iter =50, cv=5,n_jobs=-1)\n",
    "test_random.fit(X_train,y_train)"
   ]
  },
  {
   "cell_type": "code",
   "execution_count": 168,
   "id": "f89c6deb",
   "metadata": {},
   "outputs": [
    {
     "data": {
      "text/plain": [
       "{'n_estimators': 46, 'learning_rate': 0.97}"
      ]
     },
     "execution_count": 168,
     "metadata": {},
     "output_type": "execute_result"
    }
   ],
   "source": [
    "test_random.best_params_"
   ]
  },
  {
   "cell_type": "code",
   "execution_count": 169,
   "id": "12f4fa97",
   "metadata": {},
   "outputs": [
    {
     "name": "stdout",
     "output_type": "stream",
     "text": [
      "Accuracy: 0.86\n"
     ]
    }
   ],
   "source": [
    "modelAA_tuned = AdaBoostClassifier(n_estimators=25, random_state=49, learning_rate=0.98)\n",
    "modelAA_tuned.fit(X_train,y_train)\n",
    "\n",
    "y_pred = modelAA_tuned.predict(X_test)\n",
    "\n",
    "accuracy_tuned = accuracy_score(y_test, y_pred)\n",
    "print(f'Accuracy: {accuracy_tuned:.2f}')"
   ]
  },
  {
   "cell_type": "code",
   "execution_count": 170,
   "id": "affc4d48",
   "metadata": {},
   "outputs": [
    {
     "data": {
      "text/plain": [
       "['main_model_git.pkl']"
      ]
     },
     "execution_count": 170,
     "metadata": {},
     "output_type": "execute_result"
    }
   ],
   "source": [
    "import joblib\n",
    "\n",
    "joblib.dump(modelAA_tuned, 'main_model_git.pkl')"
   ]
  },
  {
   "cell_type": "code",
   "execution_count": null,
   "id": "820906e4",
   "metadata": {},
   "outputs": [],
   "source": []
  }
 ],
 "metadata": {
  "kernelspec": {
   "display_name": "Python 3 (ipykernel)",
   "language": "python",
   "name": "python3"
  },
  "language_info": {
   "codemirror_mode": {
    "name": "ipython",
    "version": 3
   },
   "file_extension": ".py",
   "mimetype": "text/x-python",
   "name": "python",
   "nbconvert_exporter": "python",
   "pygments_lexer": "ipython3",
   "version": "3.9.16"
  }
 },
 "nbformat": 4,
 "nbformat_minor": 5
}
